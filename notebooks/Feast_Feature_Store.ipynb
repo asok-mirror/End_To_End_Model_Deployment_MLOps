{
 "cells": [
  {
   "cell_type": "code",
   "execution_count": 2,
   "source": [
    "# Using feast to create feature store for the repo\r\n",
    "#install feat\r\n",
    "\r\n",
    "!pip install feast\r\n",
    "!pip freeze | echo feast"
   ],
   "outputs": [
    {
     "output_type": "stream",
     "name": "stdout",
     "text": [
      "Requirement already satisfied: feast in c:\\users\\asokk\\.conda\\envs\\mlops\\lib\\site-packages (0.11.0)\n",
      "Requirement already satisfied: grpcio>=1.34.0 in c:\\users\\asokk\\.conda\\envs\\mlops\\lib\\site-packages (from feast) (1.39.0)\n",
      "Requirement already satisfied: tenacity>=7.* in c:\\users\\asokk\\.conda\\envs\\mlops\\lib\\site-packages (from feast) (8.0.1)\n",
      "Requirement already satisfied: tqdm==4.* in c:\\users\\asokk\\.conda\\envs\\mlops\\lib\\site-packages (from feast) (4.61.2)\n",
      "Requirement already satisfied: colorama>=0.3.9 in c:\\users\\asokk\\.conda\\envs\\mlops\\lib\\site-packages (from feast) (0.4.4)\n",
      "Requirement already satisfied: pydantic>=1.0.0 in c:\\users\\asokk\\.conda\\envs\\mlops\\lib\\site-packages (from feast) (1.8.2)\n",
      "Requirement already satisfied: pandavro==1.5.* in c:\\users\\asokk\\.conda\\envs\\mlops\\lib\\site-packages (from feast) (1.5.2)\n",
      "Requirement already satisfied: Click==7.* in c:\\users\\asokk\\.conda\\envs\\mlops\\lib\\site-packages (from feast) (7.1.2)\n",
      "Requirement already satisfied: pyarrow>=2.0.0 in c:\\users\\asokk\\.conda\\envs\\mlops\\lib\\site-packages (from feast) (4.0.1)\n",
      "Requirement already satisfied: Jinja2>=2.0.0 in c:\\users\\asokk\\.conda\\envs\\mlops\\lib\\site-packages (from feast) (3.0.1)\n",
      "Requirement already satisfied: google-api-core>=1.23.0 in c:\\users\\asokk\\.conda\\envs\\mlops\\lib\\site-packages (from feast) (1.31.0)\n",
      "Requirement already satisfied: jsonschema in c:\\users\\asokk\\.conda\\envs\\mlops\\lib\\site-packages (from feast) (3.2.0)\n",
      "Requirement already satisfied: mmh3 in c:\\users\\asokk\\.conda\\envs\\mlops\\lib\\site-packages (from feast) (3.0.0)\n",
      "Requirement already satisfied: protobuf>=3.10 in c:\\users\\asokk\\.conda\\envs\\mlops\\lib\\site-packages (from feast) (3.17.3)\n",
      "Requirement already satisfied: googleapis-common-protos==1.52.* in c:\\users\\asokk\\.conda\\envs\\mlops\\lib\\site-packages (from feast) (1.52.0)\n",
      "Requirement already satisfied: fastavro>=1.1.0 in c:\\users\\asokk\\.conda\\envs\\mlops\\lib\\site-packages (from feast) (1.4.4)\n",
      "Requirement already satisfied: PyYAML==5.3.* in c:\\users\\asokk\\.conda\\envs\\mlops\\lib\\site-packages (from feast) (5.3.1)\n",
      "Requirement already satisfied: tabulate==0.8.* in c:\\users\\asokk\\.conda\\envs\\mlops\\lib\\site-packages (from feast) (0.8.9)\n",
      "Requirement already satisfied: pandas>=1.0.0 in c:\\users\\asokk\\.conda\\envs\\mlops\\lib\\site-packages (from feast) (1.3.0)\n",
      "Requirement already satisfied: toml==0.10.* in c:\\users\\asokk\\.conda\\envs\\mlops\\lib\\site-packages (from feast) (0.10.2)\n",
      "Requirement already satisfied: numpy>=1.7.0 in c:\\users\\asokk\\.conda\\envs\\mlops\\lib\\site-packages (from pandavro==1.5.*->feast) (1.21.1)\n",
      "Requirement already satisfied: six>=1.9 in c:\\users\\asokk\\.conda\\envs\\mlops\\lib\\site-packages (from pandavro==1.5.*->feast) (1.16.0)\n",
      "Requirement already satisfied: requests<3.0.0dev,>=2.18.0 in c:\\users\\asokk\\.conda\\envs\\mlops\\lib\\site-packages (from google-api-core>=1.23.0->feast) (2.26.0)\n",
      "Requirement already satisfied: google-auth<2.0dev,>=1.25.0 in c:\\users\\asokk\\.conda\\envs\\mlops\\lib\\site-packages (from google-api-core>=1.23.0->feast) (1.33.1)\n",
      "Requirement already satisfied: pytz in c:\\users\\asokk\\.conda\\envs\\mlops\\lib\\site-packages (from google-api-core>=1.23.0->feast) (2021.1)\n",
      "Requirement already satisfied: setuptools>=40.3.0 in c:\\users\\asokk\\appdata\\roaming\\python\\python38\\site-packages (from google-api-core>=1.23.0->feast) (57.1.0)\n",
      "Requirement already satisfied: packaging>=14.3 in c:\\users\\asokk\\.conda\\envs\\mlops\\lib\\site-packages (from google-api-core>=1.23.0->feast) (21.0)\n",
      "Requirement already satisfied: cachetools<5.0,>=2.0.0 in c:\\users\\asokk\\.conda\\envs\\mlops\\lib\\site-packages (from google-auth<2.0dev,>=1.25.0->google-api-core>=1.23.0->feast) (4.2.2)\n",
      "Requirement already satisfied: rsa<5,>=3.1.4 in c:\\users\\asokk\\.conda\\envs\\mlops\\lib\\site-packages (from google-auth<2.0dev,>=1.25.0->google-api-core>=1.23.0->feast) (4.7.2)\n",
      "Requirement already satisfied: pyasn1-modules>=0.2.1 in c:\\users\\asokk\\.conda\\envs\\mlops\\lib\\site-packages (from google-auth<2.0dev,>=1.25.0->google-api-core>=1.23.0->feast) (0.2.8)\n",
      "Requirement already satisfied: MarkupSafe>=2.0 in c:\\users\\asokk\\.conda\\envs\\mlops\\lib\\site-packages (from Jinja2>=2.0.0->feast) (2.0.1)\n",
      "Requirement already satisfied: pyparsing>=2.0.2 in c:\\users\\asokk\\.conda\\envs\\mlops\\lib\\site-packages (from packaging>=14.3->google-api-core>=1.23.0->feast) (2.4.7)\n",
      "Requirement already satisfied: python-dateutil>=2.7.3 in c:\\users\\asokk\\.conda\\envs\\mlops\\lib\\site-packages (from pandas>=1.0.0->feast) (2.8.2)\n",
      "Requirement already satisfied: pyasn1<0.5.0,>=0.4.6 in c:\\users\\asokk\\.conda\\envs\\mlops\\lib\\site-packages (from pyasn1-modules>=0.2.1->google-auth<2.0dev,>=1.25.0->google-api-core>=1.23.0->feast) (0.4.8)\n",
      "Requirement already satisfied: typing-extensions>=3.7.4.3 in c:\\users\\asokk\\.conda\\envs\\mlops\\lib\\site-packages (from pydantic>=1.0.0->feast) (3.10.0.0)\n",
      "Requirement already satisfied: urllib3<1.27,>=1.21.1 in c:\\users\\asokk\\.conda\\envs\\mlops\\lib\\site-packages (from requests<3.0.0dev,>=2.18.0->google-api-core>=1.23.0->feast) (1.26.6)\n",
      "Requirement already satisfied: idna<4,>=2.5 in c:\\users\\asokk\\.conda\\envs\\mlops\\lib\\site-packages (from requests<3.0.0dev,>=2.18.0->google-api-core>=1.23.0->feast) (3.2)\n",
      "Requirement already satisfied: charset-normalizer~=2.0.0 in c:\\users\\asokk\\.conda\\envs\\mlops\\lib\\site-packages (from requests<3.0.0dev,>=2.18.0->google-api-core>=1.23.0->feast) (2.0.3)\n",
      "Requirement already satisfied: certifi>=2017.4.17 in c:\\users\\asokk\\.conda\\envs\\mlops\\lib\\site-packages (from requests<3.0.0dev,>=2.18.0->google-api-core>=1.23.0->feast) (2021.5.30)\n",
      "Requirement already satisfied: attrs>=17.4.0 in c:\\users\\asokk\\.conda\\envs\\mlops\\lib\\site-packages (from jsonschema->feast) (21.2.0)\n",
      "Requirement already satisfied: pyrsistent>=0.14.0 in c:\\users\\asokk\\.conda\\envs\\mlops\\lib\\site-packages (from jsonschema->feast) (0.18.0)\n",
      "'feast'\n"
     ]
    },
    {
     "output_type": "stream",
     "name": "stderr",
     "text": [
      "ERROR: Exception:\n",
      "Traceback (most recent call last):\n",
      "  File \"C:\\Users\\asokk\\AppData\\Roaming\\Python\\Python38\\site-packages\\pip\\_internal\\cli\\base_command.py\", line 180, in _main\n",
      "    status = self.run(options, args)\n",
      "  File \"C:\\Users\\asokk\\AppData\\Roaming\\Python\\Python38\\site-packages\\pip\\_internal\\commands\\freeze.py\", line 103, in run\n",
      "    sys.stdout.write(line + '\\n')\n",
      "OSError: [Errno 22] Invalid argument\n"
     ]
    }
   ],
   "metadata": {}
  },
  {
   "cell_type": "code",
   "execution_count": 6,
   "source": [
    "import pandas as pd\r\n",
    "from pathlib import Path\r\n",
    "from boston import config\r\n",
    "\r\n"
   ],
   "outputs": [
    {
     "output_type": "stream",
     "name": "stdout",
     "text": [
      "Microsoft Windows [Version 10.0.19043.1110]\n",
      "(c) Microsoft Corporation. All rights reserved.\n",
      "\n",
      "(mlops) c:\\toolbox\\ML OPS\\End_To_End_Model_Deployment_MLOps\\notebooks>\n",
      "(mlops) c:\\toolbox\\ML OPS\\End_To_End_Model_Deployment_MLOps\\notebooks>cd ../\n",
      "\n",
      "(mlops) c:\\toolbox\\ML OPS\\End_To_End_Model_Deployment_MLOps>\n",
      "(mlops) c:\\toolbox\\ML OPS\\End_To_End_Model_Deployment_MLOps>touch test.py\n",
      "\n",
      "(mlops) c:\\toolbox\\ML OPS\\End_To_End_Model_Deployment_MLOps>\n",
      "(mlops) c:\\toolbox\\ML OPS\\End_To_End_Model_Deployment_MLOps>\n",
      "(mlops) c:\\toolbox\\ML OPS\\End_To_End_Model_Deployment_MLOps>\n",
      "(mlops) c:\\toolbox\\ML OPS\\End_To_End_Model_Deployment_MLOps>"
     ]
    },
    {
     "output_type": "stream",
     "name": "stderr",
     "text": [
      "'touch' is not recognized as an internal or external command,\n",
      "operable program or batch file.\n"
     ]
    }
   ],
   "metadata": {}
  },
  {
   "cell_type": "code",
   "execution_count": null,
   "source": [],
   "outputs": [],
   "metadata": {}
  }
 ],
 "metadata": {
  "interpreter": {
   "hash": "ccd01e3f301c8087c0b1d9dcd2ac148b50a07dd377fd0a8b4f430c1281b3bb00"
  },
  "kernelspec": {
   "name": "python3",
   "display_name": "Python 3.8.10 64-bit ('mlops': conda)"
  },
  "language_info": {
   "codemirror_mode": {
    "name": "ipython",
    "version": 3
   },
   "file_extension": ".py",
   "mimetype": "text/x-python",
   "name": "python",
   "nbconvert_exporter": "python",
   "pygments_lexer": "ipython3",
   "version": "3.8.10"
  }
 },
 "nbformat": 4,
 "nbformat_minor": 5
}