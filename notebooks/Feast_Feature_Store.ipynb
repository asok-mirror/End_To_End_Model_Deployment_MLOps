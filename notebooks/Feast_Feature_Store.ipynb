{
 "cells": [
  {
   "cell_type": "code",
   "execution_count": null,
   "source": [],
   "outputs": [],
   "metadata": {}
  },
  {
   "cell_type": "code",
   "execution_count": 84,
   "source": [
    "# Using feast to create feature store for the repo\r\n",
    "#install feat\r\n",
    "\r\n",
    "!pip install feast\r\n",
    "#!pip freeze | grep feast"
   ],
   "outputs": [
    {
     "output_type": "stream",
     "name": "stdout",
     "text": [
      "Requirement already satisfied: feast in c:\\users\\asokk\\.conda\\envs\\mlops\\lib\\site-packages (0.11.0)\n",
      "Requirement already satisfied: mmh3 in c:\\users\\asokk\\.conda\\envs\\mlops\\lib\\site-packages (from feast) (3.0.0)\n",
      "Requirement already satisfied: google-api-core>=1.23.0 in c:\\users\\asokk\\.conda\\envs\\mlops\\lib\\site-packages (from feast) (1.31.0)\n",
      "Requirement already satisfied: tenacity>=7.* in c:\\users\\asokk\\.conda\\envs\\mlops\\lib\\site-packages (from feast) (8.0.1)\n",
      "Requirement already satisfied: colorama>=0.3.9 in c:\\users\\asokk\\.conda\\envs\\mlops\\lib\\site-packages (from feast) (0.4.4)\n",
      "Requirement already satisfied: googleapis-common-protos==1.52.* in c:\\users\\asokk\\.conda\\envs\\mlops\\lib\\site-packages (from feast) (1.52.0)\n",
      "Requirement already satisfied: tqdm==4.* in c:\\users\\asokk\\.conda\\envs\\mlops\\lib\\site-packages (from feast) (4.61.2)\n",
      "Requirement already satisfied: tabulate==0.8.* in c:\\users\\asokk\\.conda\\envs\\mlops\\lib\\site-packages (from feast) (0.8.9)\n",
      "Requirement already satisfied: grpcio>=1.34.0 in c:\\users\\asokk\\.conda\\envs\\mlops\\lib\\site-packages (from feast) (1.39.0)\n",
      "Requirement already satisfied: jsonschema in c:\\users\\asokk\\.conda\\envs\\mlops\\lib\\site-packages (from feast) (3.2.0)\n",
      "Requirement already satisfied: pandavro==1.5.* in c:\\users\\asokk\\.conda\\envs\\mlops\\lib\\site-packages (from feast) (1.5.2)\n",
      "Requirement already satisfied: toml==0.10.* in c:\\users\\asokk\\.conda\\envs\\mlops\\lib\\site-packages (from feast) (0.10.2)\n",
      "Requirement already satisfied: Jinja2>=2.0.0 in c:\\users\\asokk\\.conda\\envs\\mlops\\lib\\site-packages (from feast) (3.0.1)\n",
      "Requirement already satisfied: fastavro>=1.1.0 in c:\\users\\asokk\\.conda\\envs\\mlops\\lib\\site-packages (from feast) (1.4.4)\n",
      "Requirement already satisfied: pyarrow>=2.0.0 in c:\\users\\asokk\\.conda\\envs\\mlops\\lib\\site-packages (from feast) (4.0.1)\n",
      "Requirement already satisfied: pandas>=1.0.0 in c:\\users\\asokk\\.conda\\envs\\mlops\\lib\\site-packages (from feast) (1.3.0)\n",
      "Requirement already satisfied: protobuf>=3.10 in c:\\users\\asokk\\.conda\\envs\\mlops\\lib\\site-packages (from feast) (3.17.3)\n",
      "Requirement already satisfied: Click==7.* in c:\\users\\asokk\\.conda\\envs\\mlops\\lib\\site-packages (from feast) (7.1.2)\n",
      "Requirement already satisfied: PyYAML==5.3.* in c:\\users\\asokk\\.conda\\envs\\mlops\\lib\\site-packages (from feast) (5.3.1)\n",
      "Requirement already satisfied: pydantic>=1.0.0 in c:\\users\\asokk\\.conda\\envs\\mlops\\lib\\site-packages (from feast) (1.8.2)\n",
      "Requirement already satisfied: numpy>=1.7.0 in c:\\users\\asokk\\.conda\\envs\\mlops\\lib\\site-packages (from pandavro==1.5.*->feast) (1.21.1)\n",
      "Requirement already satisfied: six>=1.9 in c:\\users\\asokk\\.conda\\envs\\mlops\\lib\\site-packages (from pandavro==1.5.*->feast) (1.16.0)\n",
      "Requirement already satisfied: packaging>=14.3 in c:\\users\\asokk\\.conda\\envs\\mlops\\lib\\site-packages (from google-api-core>=1.23.0->feast) (21.0)\n",
      "Requirement already satisfied: setuptools>=40.3.0 in c:\\users\\asokk\\appdata\\roaming\\python\\python38\\site-packages (from google-api-core>=1.23.0->feast) (57.1.0)\n",
      "Requirement already satisfied: google-auth<2.0dev,>=1.25.0 in c:\\users\\asokk\\.conda\\envs\\mlops\\lib\\site-packages (from google-api-core>=1.23.0->feast) (1.33.1)\n",
      "Requirement already satisfied: pytz in c:\\users\\asokk\\.conda\\envs\\mlops\\lib\\site-packages (from google-api-core>=1.23.0->feast) (2021.1)\n",
      "Requirement already satisfied: requests<3.0.0dev,>=2.18.0 in c:\\users\\asokk\\.conda\\envs\\mlops\\lib\\site-packages (from google-api-core>=1.23.0->feast) (2.26.0)\n",
      "Requirement already satisfied: cachetools<5.0,>=2.0.0 in c:\\users\\asokk\\.conda\\envs\\mlops\\lib\\site-packages (from google-auth<2.0dev,>=1.25.0->google-api-core>=1.23.0->feast) (4.2.2)\n",
      "Requirement already satisfied: pyasn1-modules>=0.2.1 in c:\\users\\asokk\\.conda\\envs\\mlops\\lib\\site-packages (from google-auth<2.0dev,>=1.25.0->google-api-core>=1.23.0->feast) (0.2.8)\n",
      "Requirement already satisfied: rsa<5,>=3.1.4 in c:\\users\\asokk\\.conda\\envs\\mlops\\lib\\site-packages (from google-auth<2.0dev,>=1.25.0->google-api-core>=1.23.0->feast) (4.7.2)\n",
      "Requirement already satisfied: MarkupSafe>=2.0 in c:\\users\\asokk\\.conda\\envs\\mlops\\lib\\site-packages (from Jinja2>=2.0.0->feast) (2.0.1)\n",
      "Requirement already satisfied: pyparsing>=2.0.2 in c:\\users\\asokk\\.conda\\envs\\mlops\\lib\\site-packages (from packaging>=14.3->google-api-core>=1.23.0->feast) (2.4.7)\n",
      "Requirement already satisfied: python-dateutil>=2.7.3 in c:\\users\\asokk\\.conda\\envs\\mlops\\lib\\site-packages (from pandas>=1.0.0->feast) (2.8.2)\n",
      "Requirement already satisfied: pyasn1<0.5.0,>=0.4.6 in c:\\users\\asokk\\.conda\\envs\\mlops\\lib\\site-packages (from pyasn1-modules>=0.2.1->google-auth<2.0dev,>=1.25.0->google-api-core>=1.23.0->feast) (0.4.8)\n",
      "Requirement already satisfied: typing-extensions>=3.7.4.3 in c:\\users\\asokk\\.conda\\envs\\mlops\\lib\\site-packages (from pydantic>=1.0.0->feast) (3.10.0.0)\n",
      "Requirement already satisfied: charset-normalizer~=2.0.0 in c:\\users\\asokk\\.conda\\envs\\mlops\\lib\\site-packages (from requests<3.0.0dev,>=2.18.0->google-api-core>=1.23.0->feast) (2.0.3)\n",
      "Requirement already satisfied: idna<4,>=2.5 in c:\\users\\asokk\\.conda\\envs\\mlops\\lib\\site-packages (from requests<3.0.0dev,>=2.18.0->google-api-core>=1.23.0->feast) (3.2)\n",
      "Requirement already satisfied: certifi>=2017.4.17 in c:\\users\\asokk\\.conda\\envs\\mlops\\lib\\site-packages (from requests<3.0.0dev,>=2.18.0->google-api-core>=1.23.0->feast) (2021.5.30)\n",
      "Requirement already satisfied: urllib3<1.27,>=1.21.1 in c:\\users\\asokk\\.conda\\envs\\mlops\\lib\\site-packages (from requests<3.0.0dev,>=2.18.0->google-api-core>=1.23.0->feast) (1.26.6)\n",
      "Requirement already satisfied: attrs>=17.4.0 in c:\\users\\asokk\\.conda\\envs\\mlops\\lib\\site-packages (from jsonschema->feast) (21.2.0)\n",
      "Requirement already satisfied: pyrsistent>=0.14.0 in c:\\users\\asokk\\.conda\\envs\\mlops\\lib\\site-packages (from jsonschema->feast) (0.18.0)\n"
     ]
    }
   ],
   "metadata": {}
  },
  {
   "cell_type": "code",
   "execution_count": 85,
   "source": [
    "#%%bash\r\n",
    "#cd ../\r\n",
    "#feast init --minimal --template local features\r\n",
    "#cd features\r\n",
    "#touch features.py"
   ],
   "outputs": [],
   "metadata": {}
  },
  {
   "cell_type": "code",
   "execution_count": 32,
   "source": [
    "import pandas as pd\r\n",
    "import numpy as np\r\n",
    "from pathlib import Path\r\n",
    "import config"
   ],
   "outputs": [],
   "metadata": {}
  },
  {
   "cell_type": "code",
   "execution_count": 1,
   "source": [
    "import sys\r\n",
    "\r\n",
    "sys.path"
   ],
   "outputs": [
    {
     "output_type": "execute_result",
     "data": {
      "text/plain": [
       "['c:\\\\toolbox\\\\ML OPS\\\\End_To_End_Model_Deployment_MLOps\\\\notebooks',\n",
       " 'C:\\\\toolbox\\\\ML OPS\\\\End_To_End_Model_Deployment_MLOps',\n",
       " 'C:\\\\Users\\\\asokk\\\\.conda\\\\envs\\\\mlops\\\\python38.zip',\n",
       " 'C:\\\\Users\\\\asokk\\\\.conda\\\\envs\\\\mlops\\\\DLLs',\n",
       " 'C:\\\\Users\\\\asokk\\\\.conda\\\\envs\\\\mlops\\\\lib',\n",
       " 'C:\\\\Users\\\\asokk\\\\.conda\\\\envs\\\\mlops',\n",
       " '',\n",
       " 'C:\\\\Users\\\\asokk\\\\AppData\\\\Roaming\\\\Python\\\\Python38\\\\site-packages',\n",
       " 'C:\\\\Users\\\\asokk\\\\.conda\\\\envs\\\\mlops\\\\lib\\\\site-packages',\n",
       " 'C:\\\\Users\\\\asokk\\\\.conda\\\\envs\\\\mlops\\\\lib\\\\site-packages\\\\win32',\n",
       " 'C:\\\\Users\\\\asokk\\\\.conda\\\\envs\\\\mlops\\\\lib\\\\site-packages\\\\win32\\\\lib',\n",
       " 'C:\\\\Users\\\\asokk\\\\.conda\\\\envs\\\\mlops\\\\lib\\\\site-packages\\\\Pythonwin',\n",
       " 'C:\\\\Users\\\\asokk\\\\.conda\\\\envs\\\\mlops\\\\lib\\\\site-packages\\\\IPython\\\\extensions',\n",
       " 'C:\\\\Users\\\\asokk\\\\.ipython']"
      ]
     },
     "metadata": {},
     "execution_count": 1
    }
   ],
   "metadata": {}
  },
  {
   "cell_type": "code",
   "execution_count": 64,
   "source": [
    "# Loading features to data frame\r\n",
    "feature_path = Path(config.DATA_DIR, \"credit_card_transactions.csv\")\r\n",
    "\r\n",
    "features = pd.read_csv(feature_path)\r\n",
    "\r\n",
    "features['created_time'] = features['created_time'].astype({'created_time': 'datetime64[ms]'})\r\n",
    "\r\n",
    "#features['created_time'] = pd.to_datetime(features['created_time'], unit='ms')\r\n",
    "\r\n",
    "print(features.head())\r\n",
    "\r\n",
    "features.info()"
   ],
   "outputs": [
    {
     "output_type": "stream",
     "name": "stdout",
     "text": [
      "   Unnamed: 0  customer_id  Time        V1        V2        V3        V4  \\\n",
      "0           0            0   0.0 -1.359807 -0.072781  2.536347  1.378155   \n",
      "1           1            1   0.0  1.191857  0.266151  0.166480  0.448154   \n",
      "2           2            2   1.0 -1.358354 -1.340163  1.773209  0.379780   \n",
      "3           3            3   1.0 -0.966272 -0.185226  1.792993 -0.863291   \n",
      "4           4            4   2.0 -1.158233  0.877737  1.548718  0.403034   \n",
      "\n",
      "         V5  Amount  Class created_time  \n",
      "0 -0.338321  149.62      0   2020-09-07  \n",
      "1  0.060018    2.69      0   2020-11-22  \n",
      "2 -0.503198  378.66      0   2020-10-02  \n",
      "3 -0.010309  123.50      0   2020-09-06  \n",
      "4 -0.407193   69.99      0   2020-07-12  \n",
      "<class 'pandas.core.frame.DataFrame'>\n",
      "RangeIndex: 284807 entries, 0 to 284806\n",
      "Data columns (total 11 columns):\n",
      " #   Column        Non-Null Count   Dtype         \n",
      "---  ------        --------------   -----         \n",
      " 0   Unnamed: 0    284807 non-null  int64         \n",
      " 1   customer_id   284807 non-null  int64         \n",
      " 2   Time          284807 non-null  float64       \n",
      " 3   V1            284807 non-null  float64       \n",
      " 4   V2            284807 non-null  float64       \n",
      " 5   V3            284807 non-null  float64       \n",
      " 6   V4            284807 non-null  float64       \n",
      " 7   V5            284807 non-null  float64       \n",
      " 8   Amount        284807 non-null  float64       \n",
      " 9   Class         284807 non-null  int64         \n",
      " 10  created_time  284807 non-null  datetime64[ns]\n",
      "dtypes: datetime64[ns](1), float64(7), int64(3)\n",
      "memory usage: 23.9 MB\n"
     ]
    }
   ],
   "metadata": {}
  },
  {
   "cell_type": "code",
   "execution_count": 65,
   "source": [
    "# Convert to parquet format as Feast only support it thorugh offline\r\n",
    "\r\n",
    "features.to_parquet(\r\n",
    "    Path(config.DATA_DIR, \"features.parquet\"),\r\n",
    "    compression=None,\r\n",
    "    allow_truncated_timestamps=True\r\n",
    ")"
   ],
   "outputs": [],
   "metadata": {}
  },
  {
   "cell_type": "markdown",
   "source": [
    "Feature Store\r\n"
   ],
   "metadata": {}
  },
  {
   "cell_type": "code",
   "execution_count": 73,
   "source": [
    "from feast import Entity, Feature, FeatureView, ValueType\r\n",
    "from feast.data_source import FileSource\r\n",
    "from google.protobuf.duration_pb2 import Duration\r\n",
    "from datetime import datetime"
   ],
   "outputs": [],
   "metadata": {}
  },
  {
   "cell_type": "markdown",
   "source": [
    "define the location of the data source to feast"
   ],
   "metadata": {}
  },
  {
   "cell_type": "code",
   "execution_count": 74,
   "source": [
    "START_TIME = \"2021-07-28\"\r\n",
    "feature_source = FileSource(\r\n",
    "    path=str(Path(config.DATA_DIR, \"features.parquet\")),\r\n",
    "    event_timestamp_column=\"created_time\"\r\n",
    ")"
   ],
   "outputs": [],
   "metadata": {}
  },
  {
   "cell_type": "markdown",
   "source": [
    "Nextly, define the main entity of feature data points. In our case, each data point has a unique ID."
   ],
   "metadata": {}
  },
  {
   "cell_type": "code",
   "execution_count": 75,
   "source": [
    "feature_entity = Entity(\r\n",
    "    name=\"customer_id\",\r\n",
    "    value_type=ValueType.INT64,\r\n",
    "    description=\"customer id\"\r\n",
    ")"
   ],
   "outputs": [],
   "metadata": {}
  },
  {
   "cell_type": "markdown",
   "source": [
    "Finally, create the Feature View that loads specific features of valrious value types from the feature source for a specific period of time"
   ],
   "metadata": {}
  },
  {
   "cell_type": "code",
   "execution_count": 77,
   "source": [
    "feature_details_view = FeatureView(\r\n",
    "    name=\"credit_card_transactions\",\r\n",
    "    entities=[\"customer_id\"],\r\n",
    "     ttl=Duration(\r\n",
    "        seconds=(datetime.today() - datetime.strptime(START_TIME, \"%Y-%m-%d\")).days * 24 * 60 * 60\r\n",
    "    ),\r\n",
    "    features=[\r\n",
    "        Feature(name=\"V1\", dtype=ValueType.FLOAT),\r\n",
    "        Feature(name=\"V2\", dtype=ValueType.FLOAT),\r\n",
    "        Feature(name=\"V3\", dtype=ValueType.FLOAT),\r\n",
    "        Feature(name=\"V4\", dtype=ValueType.FLOAT),\r\n",
    "        Feature(name=\"V5\", dtype=ValueType.FLOAT), \r\n",
    "        Feature(name=\"Amount\", dtype=ValueType.FLOAT),\r\n",
    "        Feature(name=\"Time\", dtype=ValueType.FLOAT),\r\n",
    "        Feature(name=\"Class\", dtype=ValueType.FLOAT)\r\n",
    "    ],\r\n",
    "    online=True,\r\n",
    "    input=feature_source,\r\n",
    "    tags={\"transaction\": \"fradulant_transaction\"},\r\n",
    "    )"
   ],
   "outputs": [],
   "metadata": {}
  },
  {
   "cell_type": "code",
   "execution_count": 128,
   "source": [
    "#%%bash\r\n",
    "#cd ../features\r\n",
    "#feast apply"
   ],
   "outputs": [],
   "metadata": {}
  },
  {
   "cell_type": "code",
   "execution_count": 188,
   "source": [
    "%%cmd\r\n",
    "cd ../features\r\n",
    "feast apply"
   ],
   "outputs": [
    {
     "output_type": "stream",
     "name": "stdout",
     "text": [
      "Microsoft Windows [Version 10.0.19043.1110]\n",
      "(c) Microsoft Corporation. All rights reserved.\n",
      "\n",
      "(mlops) c:\\toolbox\\ML OPS\\End_To_End_Model_Deployment_MLOps\\notebooks>cd ../features\n",
      "\n",
      "(mlops) c:\\toolbox\\ML OPS\\End_To_End_Model_Deployment_MLOps\\features>feast apply\n",
      "Registered entity ID\n",
      "Registered feature view house_price_details\n",
      "Deploying infrastructure for house_price_details\n",
      "\n",
      "(mlops) c:\\toolbox\\ML OPS\\End_To_End_Model_Deployment_MLOps\\features>"
     ]
    }
   ],
   "metadata": {}
  },
  {
   "cell_type": "code",
   "execution_count": 70,
   "source": [
    "import pandas as pd\r\n",
    "from feast import FeatureStore\r\n",
    "from datetime import datetime"
   ],
   "outputs": [],
   "metadata": {}
  },
  {
   "cell_type": "code",
   "execution_count": 71,
   "source": [
    "customer_tran_id = [1, 2, 33]\r\n",
    "now = datetime.now()\r\n",
    "timestamps = [datetime(now.year, now.month, now.day)] *len(customer_tran_id)\r\n",
    "entity_df = pd.DataFrame.from_dict({\"customer_id\": customer_tran_id, \"event_timestamp\": timestamps})\r\n",
    "entity_df.head()"
   ],
   "outputs": [
    {
     "output_type": "execute_result",
     "data": {
      "text/plain": [
       "   customer_id event_timestamp\n",
       "0            1      2021-07-28\n",
       "1            2      2021-07-28\n",
       "2           33      2021-07-28"
      ],
      "text/html": [
       "<div>\n",
       "<style scoped>\n",
       "    .dataframe tbody tr th:only-of-type {\n",
       "        vertical-align: middle;\n",
       "    }\n",
       "\n",
       "    .dataframe tbody tr th {\n",
       "        vertical-align: top;\n",
       "    }\n",
       "\n",
       "    .dataframe thead th {\n",
       "        text-align: right;\n",
       "    }\n",
       "</style>\n",
       "<table border=\"1\" class=\"dataframe\">\n",
       "  <thead>\n",
       "    <tr style=\"text-align: right;\">\n",
       "      <th></th>\n",
       "      <th>customer_id</th>\n",
       "      <th>event_timestamp</th>\n",
       "    </tr>\n",
       "  </thead>\n",
       "  <tbody>\n",
       "    <tr>\n",
       "      <th>0</th>\n",
       "      <td>1</td>\n",
       "      <td>2021-07-28</td>\n",
       "    </tr>\n",
       "    <tr>\n",
       "      <th>1</th>\n",
       "      <td>2</td>\n",
       "      <td>2021-07-28</td>\n",
       "    </tr>\n",
       "    <tr>\n",
       "      <th>2</th>\n",
       "      <td>33</td>\n",
       "      <td>2021-07-28</td>\n",
       "    </tr>\n",
       "  </tbody>\n",
       "</table>\n",
       "</div>"
      ]
     },
     "metadata": {},
     "execution_count": 71
    }
   ],
   "metadata": {}
  },
  {
   "cell_type": "code",
   "execution_count": 72,
   "source": [
    "#Get historical features\r\n",
    "store = FeatureStore(repo_path=Path(config.BASE_DIR, \"features\"))\r\n",
    "training_df = store.get_historical_features(\r\n",
    "    entity_df=entity_df,\r\n",
    "    feature_refs=[\r\n",
    "        \"credit_card_transactions:V1\", \r\n",
    "        \"credit_card_transactions:V2\"\r\n",
    "        ],\r\n",
    ").to_df()\r\n",
    "training_df.head()"
   ],
   "outputs": [
    {
     "output_type": "execute_result",
     "data": {
      "text/plain": [
       "            event_timestamp  customer_id  credit_card_transactions__V1  \\\n",
       "0 2021-07-28 00:00:00+00:00            1                      1.191857   \n",
       "1 2021-07-28 00:00:00+00:00            2                     -1.358354   \n",
       "2 2021-07-28 00:00:00+00:00           33                     -0.529912   \n",
       "\n",
       "   credit_card_transactions__V2  \n",
       "0                      0.266151  \n",
       "1                     -1.340163  \n",
       "2                      0.873892  "
      ],
      "text/html": [
       "<div>\n",
       "<style scoped>\n",
       "    .dataframe tbody tr th:only-of-type {\n",
       "        vertical-align: middle;\n",
       "    }\n",
       "\n",
       "    .dataframe tbody tr th {\n",
       "        vertical-align: top;\n",
       "    }\n",
       "\n",
       "    .dataframe thead th {\n",
       "        text-align: right;\n",
       "    }\n",
       "</style>\n",
       "<table border=\"1\" class=\"dataframe\">\n",
       "  <thead>\n",
       "    <tr style=\"text-align: right;\">\n",
       "      <th></th>\n",
       "      <th>event_timestamp</th>\n",
       "      <th>customer_id</th>\n",
       "      <th>credit_card_transactions__V1</th>\n",
       "      <th>credit_card_transactions__V2</th>\n",
       "    </tr>\n",
       "  </thead>\n",
       "  <tbody>\n",
       "    <tr>\n",
       "      <th>0</th>\n",
       "      <td>2021-07-28 00:00:00+00:00</td>\n",
       "      <td>1</td>\n",
       "      <td>1.191857</td>\n",
       "      <td>0.266151</td>\n",
       "    </tr>\n",
       "    <tr>\n",
       "      <th>1</th>\n",
       "      <td>2021-07-28 00:00:00+00:00</td>\n",
       "      <td>2</td>\n",
       "      <td>-1.358354</td>\n",
       "      <td>-1.340163</td>\n",
       "    </tr>\n",
       "    <tr>\n",
       "      <th>2</th>\n",
       "      <td>2021-07-28 00:00:00+00:00</td>\n",
       "      <td>33</td>\n",
       "      <td>-0.529912</td>\n",
       "      <td>0.873892</td>\n",
       "    </tr>\n",
       "  </tbody>\n",
       "</table>\n",
       "</div>"
      ]
     },
     "metadata": {},
     "execution_count": 72
    }
   ],
   "metadata": {}
  },
  {
   "cell_type": "markdown",
   "source": [
    "Materialize - Online Store"
   ],
   "metadata": {}
  },
  {
   "cell_type": "code",
   "execution_count": null,
   "source": [
    "%%bash\r\n",
    "cd ../features\r\n",
    "CURRENT_TIME=$(date -u +\"%Y-%m-%dT%H:%M:%S\")\r\n",
    "feast materialize-incremental $CURRENT_TIME"
   ],
   "outputs": [],
   "metadata": {}
  },
  {
   "cell_type": "code",
   "execution_count": 85,
   "source": [
    "# Get online features\r\n",
    "store = FeatureStore(repo_path=Path(config.BASE_DIR, \"features\"))\r\n",
    "feature_vector = store.get_online_features(\r\n",
    "    feature_refs=[\"credit_card_transactions:V1\", \"credit_card_transactions:V2\"],\r\n",
    "    entity_rows=[{\"customer_id\": 3}],\r\n",
    ").to_dict()\r\n",
    "feature_vector"
   ],
   "outputs": [
    {
     "output_type": "error",
     "ename": "FeatureViewNotFoundException",
     "evalue": "Feature view credit_card_transaction does not exist",
     "traceback": [
      "\u001b[1;31m---------------------------------------------------------------------------\u001b[0m",
      "\u001b[1;31mFeatureViewNotFoundException\u001b[0m              Traceback (most recent call last)",
      "\u001b[1;32m~\\AppData\\Local\\Temp/ipykernel_26744/2275278103.py\u001b[0m in \u001b[0;36m<module>\u001b[1;34m\u001b[0m\n\u001b[0;32m      1\u001b[0m \u001b[1;31m# Get online features\u001b[0m\u001b[1;33m\u001b[0m\u001b[1;33m\u001b[0m\u001b[1;33m\u001b[0m\u001b[0m\n\u001b[0;32m      2\u001b[0m \u001b[0mstore\u001b[0m \u001b[1;33m=\u001b[0m \u001b[0mFeatureStore\u001b[0m\u001b[1;33m(\u001b[0m\u001b[0mrepo_path\u001b[0m\u001b[1;33m=\u001b[0m\u001b[0mPath\u001b[0m\u001b[1;33m(\u001b[0m\u001b[0mconfig\u001b[0m\u001b[1;33m.\u001b[0m\u001b[0mBASE_DIR\u001b[0m\u001b[1;33m,\u001b[0m \u001b[1;34m\"features\"\u001b[0m\u001b[1;33m)\u001b[0m\u001b[1;33m)\u001b[0m\u001b[1;33m\u001b[0m\u001b[1;33m\u001b[0m\u001b[0m\n\u001b[1;32m----> 3\u001b[1;33m feature_vector = store.get_online_features(\n\u001b[0m\u001b[0;32m      4\u001b[0m     \u001b[0mfeature_refs\u001b[0m\u001b[1;33m=\u001b[0m\u001b[1;33m[\u001b[0m\u001b[1;34m\"credit_card_transaction:V1\"\u001b[0m\u001b[1;33m,\u001b[0m \u001b[1;34m\"credit_card_transactions:V2\"\u001b[0m\u001b[1;33m]\u001b[0m\u001b[1;33m,\u001b[0m\u001b[1;33m\u001b[0m\u001b[1;33m\u001b[0m\u001b[0m\n\u001b[0;32m      5\u001b[0m     \u001b[0mentity_rows\u001b[0m\u001b[1;33m=\u001b[0m\u001b[1;33m[\u001b[0m\u001b[1;33m{\u001b[0m\u001b[1;34m\"customer_id\"\u001b[0m\u001b[1;33m:\u001b[0m \u001b[1;36m3\u001b[0m\u001b[1;33m}\u001b[0m\u001b[1;33m]\u001b[0m\u001b[1;33m,\u001b[0m\u001b[1;33m\u001b[0m\u001b[1;33m\u001b[0m\u001b[0m\n",
      "\u001b[1;32m~\\.conda\\envs\\mlops\\lib\\site-packages\\feast\\usage.py\u001b[0m in \u001b[0;36mexception_logging_wrapper\u001b[1;34m(*args, **kwargs)\u001b[0m\n\u001b[0;32m    149\u001b[0m     \u001b[1;32mdef\u001b[0m \u001b[0mexception_logging_wrapper\u001b[0m\u001b[1;33m(\u001b[0m\u001b[1;33m*\u001b[0m\u001b[0margs\u001b[0m\u001b[1;33m,\u001b[0m \u001b[1;33m**\u001b[0m\u001b[0mkwargs\u001b[0m\u001b[1;33m)\u001b[0m\u001b[1;33m:\u001b[0m\u001b[1;33m\u001b[0m\u001b[1;33m\u001b[0m\u001b[0m\n\u001b[0;32m    150\u001b[0m         \u001b[1;32mtry\u001b[0m\u001b[1;33m:\u001b[0m\u001b[1;33m\u001b[0m\u001b[1;33m\u001b[0m\u001b[0m\n\u001b[1;32m--> 151\u001b[1;33m             \u001b[0mresult\u001b[0m \u001b[1;33m=\u001b[0m \u001b[0mfunc\u001b[0m\u001b[1;33m(\u001b[0m\u001b[1;33m*\u001b[0m\u001b[0margs\u001b[0m\u001b[1;33m,\u001b[0m \u001b[1;33m**\u001b[0m\u001b[0mkwargs\u001b[0m\u001b[1;33m)\u001b[0m\u001b[1;33m\u001b[0m\u001b[1;33m\u001b[0m\u001b[0m\n\u001b[0m\u001b[0;32m    152\u001b[0m             \u001b[0musage\u001b[0m\u001b[1;33m.\u001b[0m\u001b[0mlog\u001b[0m\u001b[1;33m(\u001b[0m\u001b[0mfunc\u001b[0m\u001b[1;33m.\u001b[0m\u001b[0m__name__\u001b[0m\u001b[1;33m)\u001b[0m\u001b[1;33m\u001b[0m\u001b[1;33m\u001b[0m\u001b[0m\n\u001b[0;32m    153\u001b[0m         \u001b[1;32mexcept\u001b[0m \u001b[0mException\u001b[0m \u001b[1;32mas\u001b[0m \u001b[0me\u001b[0m\u001b[1;33m:\u001b[0m\u001b[1;33m\u001b[0m\u001b[1;33m\u001b[0m\u001b[0m\n",
      "\u001b[1;32m~\\.conda\\envs\\mlops\\lib\\site-packages\\feast\\feature_store.py\u001b[0m in \u001b[0;36mget_online_features\u001b[1;34m(self, feature_refs, entity_rows)\u001b[0m\n\u001b[0;32m    544\u001b[0m         )\n\u001b[0;32m    545\u001b[0m \u001b[1;33m\u001b[0m\u001b[0m\n\u001b[1;32m--> 546\u001b[1;33m         \u001b[0mgrouped_refs\u001b[0m \u001b[1;33m=\u001b[0m \u001b[0m_group_refs\u001b[0m\u001b[1;33m(\u001b[0m\u001b[0mfeature_refs\u001b[0m\u001b[1;33m,\u001b[0m \u001b[0mall_feature_views\u001b[0m\u001b[1;33m)\u001b[0m\u001b[1;33m\u001b[0m\u001b[1;33m\u001b[0m\u001b[0m\n\u001b[0m\u001b[0;32m    547\u001b[0m         \u001b[1;32mfor\u001b[0m \u001b[0mtable\u001b[0m\u001b[1;33m,\u001b[0m \u001b[0mrequested_features\u001b[0m \u001b[1;32min\u001b[0m \u001b[0mgrouped_refs\u001b[0m\u001b[1;33m:\u001b[0m\u001b[1;33m\u001b[0m\u001b[1;33m\u001b[0m\u001b[0m\n\u001b[0;32m    548\u001b[0m             entity_keys = _get_table_entity_keys(\n",
      "\u001b[1;32m~\\.conda\\envs\\mlops\\lib\\site-packages\\feast\\feature_store.py\u001b[0m in \u001b[0;36m_group_refs\u001b[1;34m(feature_refs, all_feature_views)\u001b[0m\n\u001b[0;32m    609\u001b[0m         \u001b[0mview_name\u001b[0m\u001b[1;33m,\u001b[0m \u001b[0mfeat_name\u001b[0m \u001b[1;33m=\u001b[0m \u001b[0mref\u001b[0m\u001b[1;33m.\u001b[0m\u001b[0msplit\u001b[0m\u001b[1;33m(\u001b[0m\u001b[1;34m\":\"\u001b[0m\u001b[1;33m)\u001b[0m\u001b[1;33m\u001b[0m\u001b[1;33m\u001b[0m\u001b[0m\n\u001b[0;32m    610\u001b[0m         \u001b[1;32mif\u001b[0m \u001b[0mview_name\u001b[0m \u001b[1;32mnot\u001b[0m \u001b[1;32min\u001b[0m \u001b[0mview_index\u001b[0m\u001b[1;33m:\u001b[0m\u001b[1;33m\u001b[0m\u001b[1;33m\u001b[0m\u001b[0m\n\u001b[1;32m--> 611\u001b[1;33m             \u001b[1;32mraise\u001b[0m \u001b[0mFeatureViewNotFoundException\u001b[0m\u001b[1;33m(\u001b[0m\u001b[0mview_name\u001b[0m\u001b[1;33m)\u001b[0m\u001b[1;33m\u001b[0m\u001b[1;33m\u001b[0m\u001b[0m\n\u001b[0m\u001b[0;32m    612\u001b[0m         \u001b[0mviews_features\u001b[0m\u001b[1;33m[\u001b[0m\u001b[0mview_name\u001b[0m\u001b[1;33m]\u001b[0m\u001b[1;33m.\u001b[0m\u001b[0mappend\u001b[0m\u001b[1;33m(\u001b[0m\u001b[0mfeat_name\u001b[0m\u001b[1;33m)\u001b[0m\u001b[1;33m\u001b[0m\u001b[1;33m\u001b[0m\u001b[0m\n\u001b[0;32m    613\u001b[0m \u001b[1;33m\u001b[0m\u001b[0m\n",
      "\u001b[1;31mFeatureViewNotFoundException\u001b[0m: Feature view credit_card_transaction does not exist"
     ]
    }
   ],
   "metadata": {}
  }
 ],
 "metadata": {
  "interpreter": {
   "hash": "ccd01e3f301c8087c0b1d9dcd2ac148b50a07dd377fd0a8b4f430c1281b3bb00"
  },
  "kernelspec": {
   "name": "python3",
   "display_name": "Python 3.8.10 64-bit ('mlops': conda)"
  },
  "language_info": {
   "codemirror_mode": {
    "name": "ipython",
    "version": 3
   },
   "file_extension": ".py",
   "mimetype": "text/x-python",
   "name": "python",
   "nbconvert_exporter": "python",
   "pygments_lexer": "ipython3",
   "version": "3.8.10"
  }
 },
 "nbformat": 4,
 "nbformat_minor": 5
}