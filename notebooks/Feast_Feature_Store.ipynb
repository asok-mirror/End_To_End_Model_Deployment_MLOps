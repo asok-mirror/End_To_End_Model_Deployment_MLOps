{
 "cells": [
  {
   "cell_type": "code",
   "execution_count": 158,
   "source": [
    "# Using feast to create feature store for the repo\r\n",
    "#install feat\r\n",
    "\r\n",
    "!pip install feast\r\n",
    "!pip freeze | echo feast"
   ],
   "outputs": [
    {
     "output_type": "stream",
     "name": "stdout",
     "text": [
      "Requirement already satisfied: feast in c:\\users\\asokk\\.conda\\envs\\mlops\\lib\\site-packages (0.11.0)\n",
      "Requirement already satisfied: pandavro==1.5.* in c:\\users\\asokk\\.conda\\envs\\mlops\\lib\\site-packages (from feast) (1.5.2)\n",
      "Requirement already satisfied: tenacity>=7.* in c:\\users\\asokk\\.conda\\envs\\mlops\\lib\\site-packages (from feast) (8.0.1)\n",
      "Requirement already satisfied: tqdm==4.* in c:\\users\\asokk\\.conda\\envs\\mlops\\lib\\site-packages (from feast) (4.61.2)\n",
      "Requirement already satisfied: grpcio>=1.34.0 in c:\\users\\asokk\\.conda\\envs\\mlops\\lib\\site-packages (from feast) (1.39.0)\n",
      "Requirement already satisfied: pydantic>=1.0.0 in c:\\users\\asokk\\.conda\\envs\\mlops\\lib\\site-packages (from feast) (1.8.2)\n",
      "Requirement already satisfied: fastavro>=1.1.0 in c:\\users\\asokk\\.conda\\envs\\mlops\\lib\\site-packages (from feast) (1.4.4)\n",
      "Requirement already satisfied: mmh3 in c:\\users\\asokk\\.conda\\envs\\mlops\\lib\\site-packages (from feast) (3.0.0)\n",
      "Requirement already satisfied: protobuf>=3.10 in c:\\users\\asokk\\.conda\\envs\\mlops\\lib\\site-packages (from feast) (3.17.3)\n",
      "Requirement already satisfied: tabulate==0.8.* in c:\\users\\asokk\\.conda\\envs\\mlops\\lib\\site-packages (from feast) (0.8.9)\n",
      "Requirement already satisfied: toml==0.10.* in c:\\users\\asokk\\.conda\\envs\\mlops\\lib\\site-packages (from feast) (0.10.2)\n",
      "Requirement already satisfied: Jinja2>=2.0.0 in c:\\users\\asokk\\.conda\\envs\\mlops\\lib\\site-packages (from feast) (3.0.1)\n",
      "Requirement already satisfied: googleapis-common-protos==1.52.* in c:\\users\\asokk\\.conda\\envs\\mlops\\lib\\site-packages (from feast) (1.52.0)\n",
      "Requirement already satisfied: pyarrow>=2.0.0 in c:\\users\\asokk\\.conda\\envs\\mlops\\lib\\site-packages (from feast) (4.0.1)\n",
      "Requirement already satisfied: PyYAML==5.3.* in c:\\users\\asokk\\.conda\\envs\\mlops\\lib\\site-packages (from feast) (5.3.1)\n",
      "Requirement already satisfied: google-api-core>=1.23.0 in c:\\users\\asokk\\.conda\\envs\\mlops\\lib\\site-packages (from feast) (1.31.0)\n",
      "Requirement already satisfied: pandas>=1.0.0 in c:\\users\\asokk\\.conda\\envs\\mlops\\lib\\site-packages (from feast) (1.3.0)\n",
      "Requirement already satisfied: jsonschema in c:\\users\\asokk\\.conda\\envs\\mlops\\lib\\site-packages (from feast) (3.2.0)\n",
      "Requirement already satisfied: Click==7.* in c:\\users\\asokk\\.conda\\envs\\mlops\\lib\\site-packages (from feast) (7.1.2)\n",
      "Requirement already satisfied: colorama>=0.3.9 in c:\\users\\asokk\\.conda\\envs\\mlops\\lib\\site-packages (from feast) (0.4.4)\n",
      "Requirement already satisfied: six>=1.9 in c:\\users\\asokk\\.conda\\envs\\mlops\\lib\\site-packages (from pandavro==1.5.*->feast) (1.16.0)\n",
      "Requirement already satisfied: numpy>=1.7.0 in c:\\users\\asokk\\.conda\\envs\\mlops\\lib\\site-packages (from pandavro==1.5.*->feast) (1.21.1)\n",
      "Requirement already satisfied: requests<3.0.0dev,>=2.18.0 in c:\\users\\asokk\\.conda\\envs\\mlops\\lib\\site-packages (from google-api-core>=1.23.0->feast) (2.26.0)\n",
      "Requirement already satisfied: pytz in c:\\users\\asokk\\.conda\\envs\\mlops\\lib\\site-packages (from google-api-core>=1.23.0->feast) (2021.1)\n",
      "Requirement already satisfied: google-auth<2.0dev,>=1.25.0 in c:\\users\\asokk\\.conda\\envs\\mlops\\lib\\site-packages (from google-api-core>=1.23.0->feast) (1.33.1)\n",
      "Requirement already satisfied: packaging>=14.3 in c:\\users\\asokk\\.conda\\envs\\mlops\\lib\\site-packages (from google-api-core>=1.23.0->feast) (21.0)\n",
      "Requirement already satisfied: setuptools>=40.3.0 in c:\\users\\asokk\\appdata\\roaming\\python\\python38\\site-packages (from google-api-core>=1.23.0->feast) (57.1.0)\n",
      "Requirement already satisfied: rsa<5,>=3.1.4 in c:\\users\\asokk\\.conda\\envs\\mlops\\lib\\site-packages (from google-auth<2.0dev,>=1.25.0->google-api-core>=1.23.0->feast) (4.7.2)\n",
      "Requirement already satisfied: pyasn1-modules>=0.2.1 in c:\\users\\asokk\\.conda\\envs\\mlops\\lib\\site-packages (from google-auth<2.0dev,>=1.25.0->google-api-core>=1.23.0->feast) (0.2.8)\n",
      "Requirement already satisfied: cachetools<5.0,>=2.0.0 in c:\\users\\asokk\\.conda\\envs\\mlops\\lib\\site-packages (from google-auth<2.0dev,>=1.25.0->google-api-core>=1.23.0->feast) (4.2.2)\n",
      "Requirement already satisfied: MarkupSafe>=2.0 in c:\\users\\asokk\\.conda\\envs\\mlops\\lib\\site-packages (from Jinja2>=2.0.0->feast) (2.0.1)\n",
      "Requirement already satisfied: pyparsing>=2.0.2 in c:\\users\\asokk\\.conda\\envs\\mlops\\lib\\site-packages (from packaging>=14.3->google-api-core>=1.23.0->feast) (2.4.7)\n",
      "Requirement already satisfied: python-dateutil>=2.7.3 in c:\\users\\asokk\\.conda\\envs\\mlops\\lib\\site-packages (from pandas>=1.0.0->feast) (2.8.2)\n",
      "Requirement already satisfied: pyasn1<0.5.0,>=0.4.6 in c:\\users\\asokk\\.conda\\envs\\mlops\\lib\\site-packages (from pyasn1-modules>=0.2.1->google-auth<2.0dev,>=1.25.0->google-api-core>=1.23.0->feast) (0.4.8)\n",
      "Requirement already satisfied: typing-extensions>=3.7.4.3 in c:\\users\\asokk\\.conda\\envs\\mlops\\lib\\site-packages (from pydantic>=1.0.0->feast) (3.10.0.0)\n",
      "Requirement already satisfied: charset-normalizer~=2.0.0 in c:\\users\\asokk\\.conda\\envs\\mlops\\lib\\site-packages (from requests<3.0.0dev,>=2.18.0->google-api-core>=1.23.0->feast) (2.0.3)\n",
      "Requirement already satisfied: certifi>=2017.4.17 in c:\\users\\asokk\\.conda\\envs\\mlops\\lib\\site-packages (from requests<3.0.0dev,>=2.18.0->google-api-core>=1.23.0->feast) (2021.5.30)\n",
      "Requirement already satisfied: idna<4,>=2.5 in c:\\users\\asokk\\.conda\\envs\\mlops\\lib\\site-packages (from requests<3.0.0dev,>=2.18.0->google-api-core>=1.23.0->feast) (3.2)\n",
      "Requirement already satisfied: urllib3<1.27,>=1.21.1 in c:\\users\\asokk\\.conda\\envs\\mlops\\lib\\site-packages (from requests<3.0.0dev,>=2.18.0->google-api-core>=1.23.0->feast) (1.26.6)\n",
      "Requirement already satisfied: attrs>=17.4.0 in c:\\users\\asokk\\.conda\\envs\\mlops\\lib\\site-packages (from jsonschema->feast) (21.2.0)\n",
      "Requirement already satisfied: pyrsistent>=0.14.0 in c:\\users\\asokk\\.conda\\envs\\mlops\\lib\\site-packages (from jsonschema->feast) (0.18.0)\n",
      "feast\n"
     ]
    },
    {
     "output_type": "stream",
     "name": "stderr",
     "text": [
      "ERROR: Exception:\n",
      "Traceback (most recent call last):\n",
      "  File \"C:\\Users\\asokk\\AppData\\Roaming\\Python\\Python38\\site-packages\\pip\\_internal\\cli\\base_command.py\", line 180, in _main\n",
      "    status = self.run(options, args)\n",
      "  File \"C:\\Users\\asokk\\AppData\\Roaming\\Python\\Python38\\site-packages\\pip\\_internal\\commands\\freeze.py\", line 103, in run\n",
      "    sys.stdout.write(line + '\\n')\n",
      "OSError: [Errno 22] Invalid argument\n"
     ]
    }
   ],
   "metadata": {}
  },
  {
   "cell_type": "code",
   "execution_count": 159,
   "source": [
    "#%%bash\r\n",
    "#cd ../\r\n",
    "#feast init --minimal --template local features\r\n",
    "#cd features\r\n",
    "#touch features.py"
   ],
   "outputs": [],
   "metadata": {}
  },
  {
   "cell_type": "code",
   "execution_count": 160,
   "source": [
    "import pandas as pd\r\n",
    "from pathlib import Path\r\n",
    "import config"
   ],
   "outputs": [],
   "metadata": {}
  },
  {
   "cell_type": "code",
   "execution_count": 181,
   "source": [
    "# Loading features to data frame\r\n",
    "feature_path = Path(config.DATA_DIR, \"boston.csv\")\r\n",
    "\r\n",
    "features = pd.read_csv(feature_path, parse_dates=['CREATED_TIME'])\r\n",
    "\r\n",
    "#features.CREATED_TIME = features.CREATED_TIME.apply(lambda x: str(x))\r\n",
    "\r\n",
    "#features['CREATED_TIME'] = features['CREATED_TIME'].astype(datetime)\r\n",
    "\r\n",
    "print(features.head())\r\n",
    "\r\n",
    "features.info()"
   ],
   "outputs": [
    {
     "output_type": "stream",
     "name": "stdout",
     "text": [
      "   ID     CRIM    ZN  INDUS  CHAS    NOX     RM   AGE     DIS  RAD  TAX  \\\n",
      "0   0  0.00632  18.0   2.31     0  0.538  6.575  65.2  4.0900    1  296   \n",
      "1   1  0.02731   0.0   7.07     0  0.469  6.421  78.9  4.9671    2  242   \n",
      "2   2  0.02729   0.0   7.07     0  0.469  7.185  61.1  4.9671    2  242   \n",
      "3   3  0.03237   0.0   2.18     0  0.458  6.998  45.8  6.0622    3  222   \n",
      "4   4  0.06905   0.0   2.18     0  0.458  7.147  54.2  6.0622    3  222   \n",
      "\n",
      "   PTRATIO       B  LSTAT  MEDV        CREATED_TIME  \n",
      "0     15.3  396.90   4.98  24.0 2020-09-07 19:23:11  \n",
      "1     17.8  396.90   9.14  21.6 2020-11-22 20:11:49  \n",
      "2     17.8  392.83   4.03  34.7 2020-10-02 11:06:31  \n",
      "3     18.7  394.63   2.94  33.4 2020-09-06 00:16:44  \n",
      "4     18.7  396.90   5.33  36.2 2020-07-12 14:38:45  \n",
      "<class 'pandas.core.frame.DataFrame'>\n",
      "RangeIndex: 506 entries, 0 to 505\n",
      "Data columns (total 16 columns):\n",
      " #   Column        Non-Null Count  Dtype         \n",
      "---  ------        --------------  -----         \n",
      " 0   ID            506 non-null    int64         \n",
      " 1   CRIM          506 non-null    float64       \n",
      " 2   ZN            506 non-null    float64       \n",
      " 3   INDUS         506 non-null    float64       \n",
      " 4   CHAS          506 non-null    int64         \n",
      " 5   NOX           506 non-null    float64       \n",
      " 6   RM            506 non-null    float64       \n",
      " 7   AGE           506 non-null    float64       \n",
      " 8   DIS           506 non-null    float64       \n",
      " 9   RAD           506 non-null    int64         \n",
      " 10  TAX           506 non-null    int64         \n",
      " 11  PTRATIO       506 non-null    float64       \n",
      " 12  B             506 non-null    float64       \n",
      " 13  LSTAT         506 non-null    float64       \n",
      " 14  MEDV          506 non-null    float64       \n",
      " 15  CREATED_TIME  506 non-null    datetime64[ns]\n",
      "dtypes: datetime64[ns](1), float64(11), int64(4)\n",
      "memory usage: 63.4 KB\n"
     ]
    }
   ],
   "metadata": {}
  },
  {
   "cell_type": "code",
   "execution_count": 182,
   "source": [
    "# Convert to parquet format as Feast only support it thorugh offline\r\n",
    "\r\n",
    "features.to_parquet(\r\n",
    "    Path(config.DATA_DIR, \"boston.parquet\"),\r\n",
    "    compression=None,\r\n",
    "    allow_truncated_timestamps=True\r\n",
    ")"
   ],
   "outputs": [],
   "metadata": {}
  },
  {
   "cell_type": "markdown",
   "source": [
    "Feature Store\r\n"
   ],
   "metadata": {}
  },
  {
   "cell_type": "code",
   "execution_count": 183,
   "source": [
    "from feast import Entity, Feature, FeatureView, ValueType\r\n",
    "from feast.data_source import FileSource\r\n",
    "from google.protobuf.duration_pb2 import Duration\r\n",
    "from datetime import datetime"
   ],
   "outputs": [],
   "metadata": {}
  },
  {
   "cell_type": "markdown",
   "source": [
    "define the location of the data source to feast"
   ],
   "metadata": {}
  },
  {
   "cell_type": "code",
   "execution_count": 185,
   "source": [
    "START_TIME = \"2021-07-23\"\r\n",
    "feature_source = FileSource(\r\n",
    "    path=str(Path(config.DATA_DIR, \"boston.parquet\")),\r\n",
    "    event_timestamp_column=\"CREATED_TIME\"\r\n",
    ")"
   ],
   "outputs": [],
   "metadata": {}
  },
  {
   "cell_type": "markdown",
   "source": [
    "Nextly, define the main entity of feature data points. In our case, each data point has a unique ID."
   ],
   "metadata": {}
  },
  {
   "cell_type": "code",
   "execution_count": 186,
   "source": [
    "feature_entity = Entity(\r\n",
    "    name=\"ID\",\r\n",
    "    value_type=ValueType.INT64,\r\n",
    "    description=\"house id\"\r\n",
    ")"
   ],
   "outputs": [],
   "metadata": {}
  },
  {
   "cell_type": "markdown",
   "source": [
    "Finally, create the Feature View that loads specific features of valrious value types from the feature source for a specific period of time"
   ],
   "metadata": {}
  },
  {
   "cell_type": "code",
   "execution_count": 187,
   "source": [
    "feature_details_view = FeatureView(\r\n",
    "    name=\"house_price_details\",\r\n",
    "    entities=[\"ID\"],\r\n",
    "     ttl=Duration(\r\n",
    "        seconds=(datetime.today() - datetime.strptime(START_TIME, \"%Y-%m-%d\")).days * 24 * 60 * 60\r\n",
    "    ),\r\n",
    "    features=[\r\n",
    "        Feature(name=\"CRIM\", dtype=ValueType.FLOAT),\r\n",
    "        Feature(name=\"ZN\", dtype=ValueType.FLOAT),\r\n",
    "        Feature(name=\"INDUS\", dtype=ValueType.FLOAT),\r\n",
    "        Feature(name=\"CHAS\", dtype=ValueType.FLOAT),\r\n",
    "        Feature(name=\"NOX\", dtype=ValueType.FLOAT), \r\n",
    "        Feature(name=\"RM\", dtype=ValueType.FLOAT),\r\n",
    "        Feature(name=\"AGE\", dtype=ValueType.FLOAT),\r\n",
    "        Feature(name=\"DIS\", dtype=ValueType.FLOAT),\r\n",
    "        Feature(name=\"RAD\", dtype=ValueType.FLOAT),\r\n",
    "        Feature(name=\"TAX\", dtype=ValueType.FLOAT),\r\n",
    "        Feature(name=\"PTRATIO\", dtype=ValueType.FLOAT),\r\n",
    "        Feature(name=\"B\", dtype=ValueType.FLOAT),\r\n",
    "        Feature(name=\"LSTAT\", dtype=ValueType.FLOAT),\r\n",
    "    ],\r\n",
    "    online=True,\r\n",
    "    input=feature_source,\r\n",
    "    tags={}\r\n",
    "    )"
   ],
   "outputs": [],
   "metadata": {}
  },
  {
   "cell_type": "code",
   "execution_count": 128,
   "source": [
    "#%%bash\r\n",
    "#cd ../features\r\n",
    "#feast apply"
   ],
   "outputs": [],
   "metadata": {}
  },
  {
   "cell_type": "code",
   "execution_count": 188,
   "source": [
    "%%cmd\r\n",
    "cd ../features\r\n",
    "feast apply"
   ],
   "outputs": [
    {
     "output_type": "stream",
     "name": "stdout",
     "text": [
      "Microsoft Windows [Version 10.0.19043.1110]\n",
      "(c) Microsoft Corporation. All rights reserved.\n",
      "\n",
      "(mlops) c:\\toolbox\\ML OPS\\End_To_End_Model_Deployment_MLOps\\notebooks>cd ../features\n",
      "\n",
      "(mlops) c:\\toolbox\\ML OPS\\End_To_End_Model_Deployment_MLOps\\features>feast apply\n",
      "Registered entity ID\n",
      "Registered feature view house_price_details\n",
      "Deploying infrastructure for house_price_details\n",
      "\n",
      "(mlops) c:\\toolbox\\ML OPS\\End_To_End_Model_Deployment_MLOps\\features>"
     ]
    }
   ],
   "metadata": {}
  },
  {
   "cell_type": "code",
   "execution_count": 189,
   "source": [
    "import pandas as pd\r\n",
    "from feast import FeatureStore"
   ],
   "outputs": [],
   "metadata": {}
  },
  {
   "cell_type": "code",
   "execution_count": 218,
   "source": [
    "house_price_id = [1, 2, 33]\r\n",
    "now = datetime.now()\r\n",
    "timestamps = [datetime(now.year, now.month, now.day)] *len(house_price_id)\r\n",
    "entity_df = pd.DataFrame.from_dict({\"ID\": house_price_id, \"event_timestamp\": timestamps})\r\n",
    "entity_df.head()"
   ],
   "outputs": [
    {
     "output_type": "execute_result",
     "data": {
      "text/plain": [
       "   ID event_timestamp\n",
       "0   1      2076-07-23\n",
       "1   2      2076-07-23\n",
       "2  33      2076-07-23"
      ],
      "text/html": [
       "<div>\n",
       "<style scoped>\n",
       "    .dataframe tbody tr th:only-of-type {\n",
       "        vertical-align: middle;\n",
       "    }\n",
       "\n",
       "    .dataframe tbody tr th {\n",
       "        vertical-align: top;\n",
       "    }\n",
       "\n",
       "    .dataframe thead th {\n",
       "        text-align: right;\n",
       "    }\n",
       "</style>\n",
       "<table border=\"1\" class=\"dataframe\">\n",
       "  <thead>\n",
       "    <tr style=\"text-align: right;\">\n",
       "      <th></th>\n",
       "      <th>ID</th>\n",
       "      <th>event_timestamp</th>\n",
       "    </tr>\n",
       "  </thead>\n",
       "  <tbody>\n",
       "    <tr>\n",
       "      <th>0</th>\n",
       "      <td>1</td>\n",
       "      <td>2076-07-23</td>\n",
       "    </tr>\n",
       "    <tr>\n",
       "      <th>1</th>\n",
       "      <td>2</td>\n",
       "      <td>2076-07-23</td>\n",
       "    </tr>\n",
       "    <tr>\n",
       "      <th>2</th>\n",
       "      <td>33</td>\n",
       "      <td>2076-07-23</td>\n",
       "    </tr>\n",
       "  </tbody>\n",
       "</table>\n",
       "</div>"
      ]
     },
     "metadata": {},
     "execution_count": 218
    }
   ],
   "metadata": {}
  },
  {
   "cell_type": "code",
   "execution_count": 219,
   "source": [
    "#Get historical features\r\n",
    "store = FeatureStore(repo_path=Path(config.BASE_DIR, \"features\"))\r\n",
    "training_df = store.get_historical_features(\r\n",
    "    entity_df=entity_df,\r\n",
    "    feature_refs=[\r\n",
    "        \"house_price_details:CRIM\", \r\n",
    "        \"house_price_details:INDUS\"\r\n",
    "        ],\r\n",
    ").to_df()\r\n",
    "training_df.head()"
   ],
   "outputs": [
    {
     "output_type": "execute_result",
     "data": {
      "text/plain": [
       "            event_timestamp  ID  house_price_details__CRIM  \\\n",
       "0 2076-07-23 00:00:00+00:00   1                    0.02731   \n",
       "1 2076-07-23 00:00:00+00:00   2                    0.02729   \n",
       "2 2076-07-23 00:00:00+00:00  33                    1.15172   \n",
       "\n",
       "   house_price_details__INDUS  \n",
       "0                        7.07  \n",
       "1                        7.07  \n",
       "2                        8.14  "
      ],
      "text/html": [
       "<div>\n",
       "<style scoped>\n",
       "    .dataframe tbody tr th:only-of-type {\n",
       "        vertical-align: middle;\n",
       "    }\n",
       "\n",
       "    .dataframe tbody tr th {\n",
       "        vertical-align: top;\n",
       "    }\n",
       "\n",
       "    .dataframe thead th {\n",
       "        text-align: right;\n",
       "    }\n",
       "</style>\n",
       "<table border=\"1\" class=\"dataframe\">\n",
       "  <thead>\n",
       "    <tr style=\"text-align: right;\">\n",
       "      <th></th>\n",
       "      <th>event_timestamp</th>\n",
       "      <th>ID</th>\n",
       "      <th>house_price_details__CRIM</th>\n",
       "      <th>house_price_details__INDUS</th>\n",
       "    </tr>\n",
       "  </thead>\n",
       "  <tbody>\n",
       "    <tr>\n",
       "      <th>0</th>\n",
       "      <td>2076-07-23 00:00:00+00:00</td>\n",
       "      <td>1</td>\n",
       "      <td>0.02731</td>\n",
       "      <td>7.07</td>\n",
       "    </tr>\n",
       "    <tr>\n",
       "      <th>1</th>\n",
       "      <td>2076-07-23 00:00:00+00:00</td>\n",
       "      <td>2</td>\n",
       "      <td>0.02729</td>\n",
       "      <td>7.07</td>\n",
       "    </tr>\n",
       "    <tr>\n",
       "      <th>2</th>\n",
       "      <td>2076-07-23 00:00:00+00:00</td>\n",
       "      <td>33</td>\n",
       "      <td>1.15172</td>\n",
       "      <td>8.14</td>\n",
       "    </tr>\n",
       "  </tbody>\n",
       "</table>\n",
       "</div>"
      ]
     },
     "metadata": {},
     "execution_count": 219
    }
   ],
   "metadata": {}
  }
 ],
 "metadata": {
  "interpreter": {
   "hash": "ccd01e3f301c8087c0b1d9dcd2ac148b50a07dd377fd0a8b4f430c1281b3bb00"
  },
  "kernelspec": {
   "name": "python3",
   "display_name": "Python 3.8.10 64-bit ('mlops': conda)"
  },
  "language_info": {
   "codemirror_mode": {
    "name": "ipython",
    "version": 3
   },
   "file_extension": ".py",
   "mimetype": "text/x-python",
   "name": "python",
   "nbconvert_exporter": "python",
   "pygments_lexer": "ipython3",
   "version": "3.8.10"
  }
 },
 "nbformat": 4,
 "nbformat_minor": 5
}