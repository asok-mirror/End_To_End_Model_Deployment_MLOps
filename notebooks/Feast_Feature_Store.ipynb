{
 "cells": [
  {
   "cell_type": "code",
   "execution_count": 37,
   "source": [
    "!feast remove"
   ],
   "outputs": [
    {
     "output_type": "stream",
     "name": "stderr",
     "text": [
      "/home/asok/anaconda3/envs/mlops/lib/python3.8/site-packages/ipykernel/ipkernel.py:287: DeprecationWarning: `should_run_async` will not call `transform_cell` automatically in the future. Please pass the result to `transformed_cell` argument and any exception that happen during thetransform in `preprocessing_exc_tuple` in IPython 7.17 and above.\n",
      "  and should_run_async(code)\n"
     ]
    },
    {
     "output_type": "stream",
     "name": "stdout",
     "text": [
      "Usage: feast [OPTIONS] COMMAND [ARGS]...\n",
      "Try 'feast --help' for help.\n",
      "\n",
      "Error: No such command 'remove'.\n"
     ]
    }
   ],
   "metadata": {}
  },
  {
   "cell_type": "code",
   "execution_count": 39,
   "source": [
    "# Using feast to create feature store for the repo\n",
    "#install feat\n",
    "\n",
    "!pip install feast==0.11.0\n",
    "!pip freeze | grep feast"
   ],
   "outputs": [
    {
     "output_type": "stream",
     "name": "stdout",
     "text": [
      "Collecting feast==0.11.0\n",
      "  Using cached feast-0.11.0-py3-none-any.whl (190 kB)\n",
      "Requirement already satisfied: jsonschema in /home/asok/anaconda3/envs/mlops/lib/python3.8/site-packages (from feast==0.11.0) (3.2.0)\n",
      "Requirement already satisfied: mmh3 in /home/asok/anaconda3/envs/mlops/lib/python3.8/site-packages (from feast==0.11.0) (3.0.0)\n",
      "Collecting fastavro>=1.1.0\n",
      "  Using cached fastavro-1.4.4-cp38-cp38-manylinux_2_17_x86_64.manylinux2014_x86_64.whl (2.7 MB)\n",
      "Requirement already satisfied: pandavro==1.5.* in /home/asok/anaconda3/envs/mlops/lib/python3.8/site-packages (from feast==0.11.0) (1.5.2)\n",
      "Requirement already satisfied: googleapis-common-protos==1.52.* in /home/asok/anaconda3/envs/mlops/lib/python3.8/site-packages (from feast==0.11.0) (1.52.0)\n",
      "Requirement already satisfied: pandas>=1.0.0 in /home/asok/anaconda3/envs/mlops/lib/python3.8/site-packages (from feast==0.11.0) (1.3.0)\n",
      "Requirement already satisfied: grpcio>=1.34.0 in /home/asok/anaconda3/envs/mlops/lib/python3.8/site-packages (from feast==0.11.0) (1.39.0)\n",
      "Collecting tenacity>=7.*\n",
      "  Using cached tenacity-8.0.1-py3-none-any.whl (24 kB)\n",
      "Requirement already satisfied: tabulate==0.8.* in /home/asok/anaconda3/envs/mlops/lib/python3.8/site-packages (from feast==0.11.0) (0.8.9)\n",
      "Requirement already satisfied: tqdm==4.* in /home/asok/anaconda3/envs/mlops/lib/python3.8/site-packages (from feast==0.11.0) (4.62.0)\n",
      "Requirement already satisfied: Jinja2>=2.0.0 in /home/asok/anaconda3/envs/mlops/lib/python3.8/site-packages (from feast==0.11.0) (2.11.3)\n",
      "Requirement already satisfied: colorama>=0.3.9 in /home/asok/anaconda3/envs/mlops/lib/python3.8/site-packages (from feast==0.11.0) (0.4.4)\n",
      "Requirement already satisfied: google-api-core>=1.23.0 in /home/asok/anaconda3/envs/mlops/lib/python3.8/site-packages (from feast==0.11.0) (1.31.1)\n",
      "Requirement already satisfied: Click==7.* in /home/asok/anaconda3/envs/mlops/lib/python3.8/site-packages (from feast==0.11.0) (7.1.2)\n",
      "Requirement already satisfied: pydantic>=1.0.0 in /home/asok/anaconda3/envs/mlops/lib/python3.8/site-packages (from feast==0.11.0) (1.8.2)\n",
      "Requirement already satisfied: toml==0.10.* in /home/asok/anaconda3/envs/mlops/lib/python3.8/site-packages (from feast==0.11.0) (0.10.2)\n",
      "Requirement already satisfied: PyYAML==5.3.* in /home/asok/anaconda3/envs/mlops/lib/python3.8/site-packages (from feast==0.11.0) (5.3.1)\n",
      "Requirement already satisfied: protobuf>=3.10 in /home/asok/anaconda3/envs/mlops/lib/python3.8/site-packages (from feast==0.11.0) (3.17.3)\n",
      "Requirement already satisfied: pyarrow>=2.0.0 in /home/asok/anaconda3/envs/mlops/lib/python3.8/site-packages (from feast==0.11.0) (5.0.0)\n",
      "Requirement already satisfied: six>=1.9 in /home/asok/anaconda3/envs/mlops/lib/python3.8/site-packages (from pandavro==1.5.*->feast==0.11.0) (1.16.0)\n",
      "Requirement already satisfied: numpy>=1.7.0 in /home/asok/anaconda3/envs/mlops/lib/python3.8/site-packages (from pandavro==1.5.*->feast==0.11.0) (1.21.0)\n",
      "Requirement already satisfied: setuptools>=40.3.0 in /home/asok/anaconda3/envs/mlops/lib/python3.8/site-packages (from google-api-core>=1.23.0->feast==0.11.0) (52.0.0.post20210125)\n",
      "Requirement already satisfied: google-auth<2.0dev,>=1.25.0 in /home/asok/anaconda3/envs/mlops/lib/python3.8/site-packages (from google-api-core>=1.23.0->feast==0.11.0) (1.34.0)\n",
      "Requirement already satisfied: packaging>=14.3 in /home/asok/anaconda3/envs/mlops/lib/python3.8/site-packages (from google-api-core>=1.23.0->feast==0.11.0) (21.0)\n",
      "Requirement already satisfied: pytz in /home/asok/anaconda3/envs/mlops/lib/python3.8/site-packages (from google-api-core>=1.23.0->feast==0.11.0) (2021.1)\n",
      "Requirement already satisfied: requests<3.0.0dev,>=2.18.0 in /home/asok/anaconda3/envs/mlops/lib/python3.8/site-packages (from google-api-core>=1.23.0->feast==0.11.0) (2.26.0)\n",
      "Requirement already satisfied: pyasn1-modules>=0.2.1 in /home/asok/anaconda3/envs/mlops/lib/python3.8/site-packages (from google-auth<2.0dev,>=1.25.0->google-api-core>=1.23.0->feast==0.11.0) (0.2.8)\n",
      "Requirement already satisfied: cachetools<5.0,>=2.0.0 in /home/asok/anaconda3/envs/mlops/lib/python3.8/site-packages (from google-auth<2.0dev,>=1.25.0->google-api-core>=1.23.0->feast==0.11.0) (4.2.2)\n",
      "Requirement already satisfied: rsa<5,>=3.1.4 in /home/asok/anaconda3/envs/mlops/lib/python3.8/site-packages (from google-auth<2.0dev,>=1.25.0->google-api-core>=1.23.0->feast==0.11.0) (4.7.2)\n",
      "Requirement already satisfied: MarkupSafe>=0.23 in /home/asok/anaconda3/envs/mlops/lib/python3.8/site-packages (from Jinja2>=2.0.0->feast==0.11.0) (1.1.1)\n",
      "Requirement already satisfied: pyparsing>=2.0.2 in /home/asok/anaconda3/envs/mlops/lib/python3.8/site-packages (from packaging>=14.3->google-api-core>=1.23.0->feast==0.11.0) (2.4.7)\n",
      "Requirement already satisfied: python-dateutil>=2.7.3 in /home/asok/anaconda3/envs/mlops/lib/python3.8/site-packages (from pandas>=1.0.0->feast==0.11.0) (2.8.2)\n",
      "Requirement already satisfied: pyasn1<0.5.0,>=0.4.6 in /home/asok/anaconda3/envs/mlops/lib/python3.8/site-packages (from pyasn1-modules>=0.2.1->google-auth<2.0dev,>=1.25.0->google-api-core>=1.23.0->feast==0.11.0) (0.4.8)\n",
      "Requirement already satisfied: typing-extensions>=3.7.4.3 in /home/asok/anaconda3/envs/mlops/lib/python3.8/site-packages (from pydantic>=1.0.0->feast==0.11.0) (3.10.0.0)\n",
      "Requirement already satisfied: idna<4,>=2.5 in /home/asok/anaconda3/envs/mlops/lib/python3.8/site-packages (from requests<3.0.0dev,>=2.18.0->google-api-core>=1.23.0->feast==0.11.0) (2.10)\n",
      "Requirement already satisfied: charset-normalizer~=2.0.0 in /home/asok/anaconda3/envs/mlops/lib/python3.8/site-packages (from requests<3.0.0dev,>=2.18.0->google-api-core>=1.23.0->feast==0.11.0) (2.0.4)\n",
      "Requirement already satisfied: certifi>=2017.4.17 in /home/asok/anaconda3/envs/mlops/lib/python3.8/site-packages (from requests<3.0.0dev,>=2.18.0->google-api-core>=1.23.0->feast==0.11.0) (2020.12.5)\n",
      "Requirement already satisfied: urllib3<1.27,>=1.21.1 in /home/asok/anaconda3/envs/mlops/lib/python3.8/site-packages (from requests<3.0.0dev,>=2.18.0->google-api-core>=1.23.0->feast==0.11.0) (1.26.6)\n",
      "Requirement already satisfied: attrs>=17.4.0 in /home/asok/anaconda3/envs/mlops/lib/python3.8/site-packages (from jsonschema->feast==0.11.0) (20.3.0)\n",
      "Requirement already satisfied: pyrsistent>=0.14.0 in /home/asok/anaconda3/envs/mlops/lib/python3.8/site-packages (from jsonschema->feast==0.11.0) (0.18.0)\n",
      "Installing collected packages: fastavro, tenacity, feast\n",
      "  Attempting uninstall: fastavro\n",
      "    Found existing installation: fastavro 0.22.13\n",
      "    Uninstalling fastavro-0.22.13:\n",
      "      Successfully uninstalled fastavro-0.22.13\n",
      "  Attempting uninstall: tenacity\n",
      "    Found existing installation: tenacity 6.2.0\n",
      "    Uninstalling tenacity-6.2.0:\n",
      "      Successfully uninstalled tenacity-6.2.0\n",
      "  Attempting uninstall: feast\n",
      "    Found existing installation: feast 0.10.5\n",
      "    Uninstalling feast-0.10.5:\n",
      "      Successfully uninstalled feast-0.10.5\n",
      "\u001b[31mERROR: pip's dependency resolver does not currently take into account all the packages that are installed. This behaviour is the source of the following dependency conflicts.\n",
      "apache-airflow 2.1.2 requires tenacity~=6.2.0, but you have tenacity 8.0.1 which is incompatible.\u001b[0m\n",
      "Successfully installed fastavro-1.4.4 feast-0.11.0 tenacity-8.0.1\n",
      "feast==0.11.0\n"
     ]
    }
   ],
   "metadata": {}
  },
  {
   "cell_type": "code",
   "execution_count": 85,
   "source": [
    "#%%bash\n",
    "#cd ../\n",
    "#feast init --minimal --template local features\n",
    "#cd features\n",
    "#touch features.py"
   ],
   "outputs": [],
   "metadata": {}
  },
  {
   "cell_type": "code",
   "execution_count": 40,
   "source": [
    "import pandas as pd\n",
    "import numpy as np\n",
    "from pathlib import Path\n",
    "import sys\n",
    "sys.path.insert(0, '/home/asok/toolbox/mlops/End_To_End_Model_Deployment_MLOps/core')\n",
    "print(sys.path)\n",
    "import config"
   ],
   "outputs": [
    {
     "output_type": "stream",
     "name": "stdout",
     "text": [
      "['/home/asok/toolbox/mlops/End_To_End_Model_Deployment_MLOps/core', '/home/asok/toolbox/mlops/End_To_End_Model_Deployment_MLOps/core', '/home/asok/toolbox/mlops/End_To_End_Model_Deployment_MLOps/core', '/c/toolbox/ML OPS/End_To_End_Model_Deployment_MLOps/core', '/c/toolbox/mlops/End_To_End_Model_Deployment_MLOps/core', '/c/toolbox/mlops/End_To_End_Model_Deployment_MLOps/core', '/c/toolbox/mlops/End_To_End_Model_Deployment_MLOps/core', '/c/toolbox/mlops/End_To_End_Model_Deployment_MLOps/core', '/c/toolbox/mlops/End_To_End_Model_Deployment_MLOps/core', '/c/toolbox/mlops/End_To_End_Model_Deployment_MLOps/core', '/c/toolbox/mlops/End_To_End_Model_Deployment_MLOps/core', '/c/toolbox/mlops/End_To_End_Model_Deployment_MLOps/core', '/c/toolbox/mlops/End_To_End_Model_Deployment_MLOps/core', '/c/toolbox/mlops/End_To_End_Model_Deployment_MLOps/core', '/c/toolbox/mlops/End_To_End_Model_Deployment_MLOps/core', '/c/toolbox/mlops/End_To_End_Model_Deployment_MLOps/core', '/c//toolbox/mlops/End_To_End_Model_Deployment_MLOps/core', '/c//toolbox/mlops/End_To_End_Model_Deployment_MLOps/core', '/c//toolbox/mlops/End_To_End_Model_Deployment_MLOps/core', '/c//toolbox/mlops/End_To_End_Model_Deployment_MLOps/core', '/c//toolbox/mlops/End_To_End_Model_Deployment_MLOps/core', '/c//toolbox/mlops/End_To_End_Model_Deployment_MLOps/core', '/home/asok/toolbox/mlops/End_To_End_Model_Deployment_MLOps/notebooks', '/home/asok/toolbox/mlops/End_To_End_Model_Deployment_MLOps/notebooks', '/c/Users/asokk/airflowhome', '/c/toolbox/ML OPS/End_To_End_Model_Deployment_MLOps;/c/toolbox/ML OPS/End_To_End_Model_Deployment_MLOps/core;/c/toolbox/ML OPS/End_To_End_Model_Deployment_MLOps/app;/c/toolbox/ML OPS/End_To_End_Model_Deployment_MLOps/notebooks;/c/toolbox/ML OPS/End_To_End_Model_Deployment_MLOps/features', '/home/asok/anaconda3/envs/mlops/lib/python38.zip', '/home/asok/anaconda3/envs/mlops/lib/python3.8', '/home/asok/anaconda3/envs/mlops/lib/python3.8/lib-dynload', '', '/home/asok/anaconda3/envs/mlops/lib/python3.8/site-packages', '/home/asok/anaconda3/envs/mlops/lib/python3.8/site-packages/IPython/extensions', '/home/asok/.ipython']\n"
     ]
    }
   ],
   "metadata": {}
  },
  {
   "cell_type": "code",
   "execution_count": 41,
   "source": [
    "import sys\n",
    "\n",
    "sys.path"
   ],
   "outputs": [
    {
     "output_type": "execute_result",
     "data": {
      "text/plain": [
       "['/home/asok/toolbox/mlops/End_To_End_Model_Deployment_MLOps/core',\n",
       " '/home/asok/toolbox/mlops/End_To_End_Model_Deployment_MLOps/core',\n",
       " '/home/asok/toolbox/mlops/End_To_End_Model_Deployment_MLOps/core',\n",
       " '/c/toolbox/ML OPS/End_To_End_Model_Deployment_MLOps/core',\n",
       " '/c/toolbox/mlops/End_To_End_Model_Deployment_MLOps/core',\n",
       " '/c/toolbox/mlops/End_To_End_Model_Deployment_MLOps/core',\n",
       " '/c/toolbox/mlops/End_To_End_Model_Deployment_MLOps/core',\n",
       " '/c/toolbox/mlops/End_To_End_Model_Deployment_MLOps/core',\n",
       " '/c/toolbox/mlops/End_To_End_Model_Deployment_MLOps/core',\n",
       " '/c/toolbox/mlops/End_To_End_Model_Deployment_MLOps/core',\n",
       " '/c/toolbox/mlops/End_To_End_Model_Deployment_MLOps/core',\n",
       " '/c/toolbox/mlops/End_To_End_Model_Deployment_MLOps/core',\n",
       " '/c/toolbox/mlops/End_To_End_Model_Deployment_MLOps/core',\n",
       " '/c/toolbox/mlops/End_To_End_Model_Deployment_MLOps/core',\n",
       " '/c/toolbox/mlops/End_To_End_Model_Deployment_MLOps/core',\n",
       " '/c/toolbox/mlops/End_To_End_Model_Deployment_MLOps/core',\n",
       " '/c//toolbox/mlops/End_To_End_Model_Deployment_MLOps/core',\n",
       " '/c//toolbox/mlops/End_To_End_Model_Deployment_MLOps/core',\n",
       " '/c//toolbox/mlops/End_To_End_Model_Deployment_MLOps/core',\n",
       " '/c//toolbox/mlops/End_To_End_Model_Deployment_MLOps/core',\n",
       " '/c//toolbox/mlops/End_To_End_Model_Deployment_MLOps/core',\n",
       " '/c//toolbox/mlops/End_To_End_Model_Deployment_MLOps/core',\n",
       " '/home/asok/toolbox/mlops/End_To_End_Model_Deployment_MLOps/notebooks',\n",
       " '/home/asok/toolbox/mlops/End_To_End_Model_Deployment_MLOps/notebooks',\n",
       " '/c/Users/asokk/airflowhome',\n",
       " '/c/toolbox/ML OPS/End_To_End_Model_Deployment_MLOps;/c/toolbox/ML OPS/End_To_End_Model_Deployment_MLOps/core;/c/toolbox/ML OPS/End_To_End_Model_Deployment_MLOps/app;/c/toolbox/ML OPS/End_To_End_Model_Deployment_MLOps/notebooks;/c/toolbox/ML OPS/End_To_End_Model_Deployment_MLOps/features',\n",
       " '/home/asok/anaconda3/envs/mlops/lib/python38.zip',\n",
       " '/home/asok/anaconda3/envs/mlops/lib/python3.8',\n",
       " '/home/asok/anaconda3/envs/mlops/lib/python3.8/lib-dynload',\n",
       " '',\n",
       " '/home/asok/anaconda3/envs/mlops/lib/python3.8/site-packages',\n",
       " '/home/asok/anaconda3/envs/mlops/lib/python3.8/site-packages/IPython/extensions',\n",
       " '/home/asok/.ipython']"
      ]
     },
     "metadata": {},
     "execution_count": 41
    }
   ],
   "metadata": {}
  },
  {
   "cell_type": "code",
   "execution_count": 62,
   "source": [
    "# Loading features to data frame\n",
    "feature_path = Path(config.DATA_DIR, \"credit_card_transactions.csv\")\n",
    "\n",
    "features = pd.read_csv(feature_path)\n",
    "\n",
    "features['created_time'] = features['created_time'].astype({'created_time': 'datetime64[ms]'})\n",
    "\n",
    "#features['created_time'] = pd.to_datetime(features['created_time'], unit='ms')\n",
    "\n",
    "print(features.head())\n",
    "\n",
    "features.info()"
   ],
   "outputs": [
    {
     "output_type": "stream",
     "name": "stdout",
     "text": [
      "   Unnamed: 0  customer_id  Time        V1        V2        V3        V4  \\\n",
      "0           0            0   0.0 -1.359807 -0.072781  2.536347  1.378155   \n",
      "1           1            1   0.0  1.191857  0.266151  0.166480  0.448154   \n",
      "2           2            2   1.0 -1.358354 -1.340163  1.773209  0.379780   \n",
      "3           3            3   1.0 -0.966272 -0.185226  1.792993 -0.863291   \n",
      "4           4            4   2.0 -1.158233  0.877737  1.548718  0.403034   \n",
      "\n",
      "         V5  Amount  Class created_time  \n",
      "0 -0.338321  149.62      0   2020-09-07  \n",
      "1  0.060018    2.69      0   2020-11-22  \n",
      "2 -0.503198  378.66      0   2020-10-02  \n",
      "3 -0.010309  123.50      0   2020-09-06  \n",
      "4 -0.407193   69.99      0   2020-07-12  \n",
      "<class 'pandas.core.frame.DataFrame'>\n",
      "RangeIndex: 284807 entries, 0 to 284806\n",
      "Data columns (total 11 columns):\n",
      " #   Column        Non-Null Count   Dtype         \n",
      "---  ------        --------------   -----         \n",
      " 0   Unnamed: 0    284807 non-null  int64         \n",
      " 1   customer_id   284807 non-null  int64         \n",
      " 2   Time          284807 non-null  float64       \n",
      " 3   V1            284807 non-null  float64       \n",
      " 4   V2            284807 non-null  float64       \n",
      " 5   V3            284807 non-null  float64       \n",
      " 6   V4            284807 non-null  float64       \n",
      " 7   V5            284807 non-null  float64       \n",
      " 8   Amount        284807 non-null  float64       \n",
      " 9   Class         284807 non-null  int64         \n",
      " 10  created_time  284807 non-null  datetime64[ns]\n",
      "dtypes: datetime64[ns](1), float64(7), int64(3)\n",
      "memory usage: 23.9 MB\n"
     ]
    }
   ],
   "metadata": {}
  },
  {
   "cell_type": "code",
   "execution_count": 63,
   "source": [
    "# Convert to parquet format as Feast only support it thorugh offline\n",
    "\n",
    "features.to_parquet(\n",
    "    Path(config.DATA_DIR, \"features.parquet\"),\n",
    "    compression=None,\n",
    "    allow_truncated_timestamps=True\n",
    ")"
   ],
   "outputs": [
    {
     "output_type": "stream",
     "name": "stderr",
     "text": [
      "/home/asok/anaconda3/envs/mlops/lib/python3.8/site-packages/ipykernel/ipkernel.py:287: DeprecationWarning: `should_run_async` will not call `transform_cell` automatically in the future. Please pass the result to `transformed_cell` argument and any exception that happen during thetransform in `preprocessing_exc_tuple` in IPython 7.17 and above.\n",
      "  and should_run_async(code)\n"
     ]
    }
   ],
   "metadata": {}
  },
  {
   "cell_type": "markdown",
   "source": [
    "Feature Store\r\n"
   ],
   "metadata": {}
  },
  {
   "cell_type": "code",
   "execution_count": 64,
   "source": [
    "from feast import Entity, Feature, FeatureView, ValueType\n",
    "from feast.data_source import FileSource\n",
    "from google.protobuf.duration_pb2 import Duration\n",
    "from datetime import datetime"
   ],
   "outputs": [],
   "metadata": {}
  },
  {
   "cell_type": "markdown",
   "source": [
    "define the location of the data source to feast"
   ],
   "metadata": {}
  },
  {
   "cell_type": "code",
   "execution_count": 65,
   "source": [
    "START_TIME = \"2021-08-05\"\n",
    "feature_source = FileSource(\n",
    "    path=str(Path(config.DATA_DIR, \"features.parquet\")),\n",
    "    event_timestamp_column=\"created_time\"\n",
    ")"
   ],
   "outputs": [],
   "metadata": {}
  },
  {
   "cell_type": "markdown",
   "source": [
    "Nextly, define the main entity of feature data points. In our case, each data point has a unique ID."
   ],
   "metadata": {}
  },
  {
   "cell_type": "code",
   "execution_count": 66,
   "source": [
    "feature_entity = Entity(\n",
    "    name=\"customer_id\",\n",
    "    value_type=ValueType.INT64,\n",
    "    description=\"customer id\"\n",
    ")"
   ],
   "outputs": [],
   "metadata": {}
  },
  {
   "cell_type": "markdown",
   "source": [
    "Finally, create the Feature View that loads specific features of valrious value types from the feature source for a specific period of time"
   ],
   "metadata": {}
  },
  {
   "cell_type": "code",
   "execution_count": 67,
   "source": [
    "feature_details_view = FeatureView(\n",
    "    name=\"credit_card_transactions\",\n",
    "    entities=[\"customer_id\"],\n",
    "     ttl=Duration(\n",
    "        seconds=(datetime.today() - datetime.strptime(START_TIME, \"%Y-%m-%d\")).days * 24 * 60 * 60\n",
    "    ),\n",
    "    features=[\n",
    "        Feature(name=\"V1\", dtype=ValueType.FLOAT),\n",
    "        Feature(name=\"V2\", dtype=ValueType.FLOAT),\n",
    "        Feature(name=\"V3\", dtype=ValueType.FLOAT),\n",
    "        Feature(name=\"V4\", dtype=ValueType.FLOAT),\n",
    "        Feature(name=\"V5\", dtype=ValueType.FLOAT), \n",
    "        Feature(name=\"Amount\", dtype=ValueType.FLOAT),\n",
    "        Feature(name=\"Time\", dtype=ValueType.FLOAT),\n",
    "        Feature(name=\"Class\", dtype=ValueType.FLOAT)\n",
    "    ],\n",
    "    online=True,\n",
    "    input=feature_source,\n",
    "    tags={\"transaction\": \"fradulant_transaction\"},\n",
    "    )"
   ],
   "outputs": [],
   "metadata": {}
  },
  {
   "cell_type": "code",
   "execution_count": 128,
   "source": [
    "#%%bash\n",
    "#cd ../features\n",
    "#feast apply"
   ],
   "outputs": [],
   "metadata": {}
  },
  {
   "cell_type": "code",
   "execution_count": 188,
   "source": [
    "%%cmd\n",
    "cd ../features\n",
    "feast apply"
   ],
   "outputs": [
    {
     "output_type": "stream",
     "name": "stdout",
     "text": [
      "Microsoft Windows [Version 10.0.19043.1110]\n",
      "(c) Microsoft Corporation. All rights reserved.\n",
      "\n",
      "(mlops) c:\\toolbox\\ML OPS\\End_To_End_Model_Deployment_MLOps\\notebooks>cd ../features\n",
      "\n",
      "(mlops) c:\\toolbox\\ML OPS\\End_To_End_Model_Deployment_MLOps\\features>feast apply\n",
      "Registered entity ID\n",
      "Registered feature view house_price_details\n",
      "Deploying infrastructure for house_price_details\n",
      "\n",
      "(mlops) c:\\toolbox\\ML OPS\\End_To_End_Model_Deployment_MLOps\\features>"
     ]
    }
   ],
   "metadata": {}
  },
  {
   "cell_type": "code",
   "execution_count": 68,
   "source": [
    "import pandas as pd\n",
    "from feast import FeatureStore\n",
    "from datetime import datetime"
   ],
   "outputs": [],
   "metadata": {}
  },
  {
   "cell_type": "code",
   "execution_count": 69,
   "source": [
    "customer_tran_id = [1, 2, 33]\n",
    "now = datetime.now()\n",
    "timestamps = [datetime(now.year, now.month, now.day)] *len(customer_tran_id)\n",
    "entity_df = pd.DataFrame.from_dict({\"customer_id\": customer_tran_id, \"event_timestamp\": timestamps})\n",
    "entity_df.head()"
   ],
   "outputs": [
    {
     "output_type": "execute_result",
     "data": {
      "text/plain": [
       "   customer_id event_timestamp\n",
       "0            1      2021-08-05\n",
       "1            2      2021-08-05\n",
       "2           33      2021-08-05"
      ],
      "text/html": [
       "<div>\n",
       "<style scoped>\n",
       "    .dataframe tbody tr th:only-of-type {\n",
       "        vertical-align: middle;\n",
       "    }\n",
       "\n",
       "    .dataframe tbody tr th {\n",
       "        vertical-align: top;\n",
       "    }\n",
       "\n",
       "    .dataframe thead th {\n",
       "        text-align: right;\n",
       "    }\n",
       "</style>\n",
       "<table border=\"1\" class=\"dataframe\">\n",
       "  <thead>\n",
       "    <tr style=\"text-align: right;\">\n",
       "      <th></th>\n",
       "      <th>customer_id</th>\n",
       "      <th>event_timestamp</th>\n",
       "    </tr>\n",
       "  </thead>\n",
       "  <tbody>\n",
       "    <tr>\n",
       "      <th>0</th>\n",
       "      <td>1</td>\n",
       "      <td>2021-08-05</td>\n",
       "    </tr>\n",
       "    <tr>\n",
       "      <th>1</th>\n",
       "      <td>2</td>\n",
       "      <td>2021-08-05</td>\n",
       "    </tr>\n",
       "    <tr>\n",
       "      <th>2</th>\n",
       "      <td>33</td>\n",
       "      <td>2021-08-05</td>\n",
       "    </tr>\n",
       "  </tbody>\n",
       "</table>\n",
       "</div>"
      ]
     },
     "metadata": {},
     "execution_count": 69
    }
   ],
   "metadata": {}
  },
  {
   "cell_type": "code",
   "execution_count": 73,
   "source": [
    "#Get historical features\n",
    "store = FeatureStore(repo_path=Path(config.BASE_DIR, \"features\"))\n",
    "training_df = store.get_historical_features(\n",
    "    entity_df=entity_df,\n",
    "    feature_refs=[\n",
    "        \"credit_card_transactions:V1\", \n",
    "        \"credit_card_transactions:V2\",\n",
    "        \"credit_card_transactions:V3\", \n",
    "        \"credit_card_transactions:V4\",\n",
    "        \"credit_card_transactions:V5\",\n",
    "        \"credit_card_transactions:Amount\",\n",
    "        \"credit_card_transactions:Time\",\n",
    "        \"credit_card_transactions:Class\",\n",
    "        ],\n",
    ").to_df()\n",
    "training_df.head()"
   ],
   "outputs": [
    {
     "output_type": "stream",
     "name": "stderr",
     "text": [
      "/home/asok/anaconda3/envs/mlops/lib/python3.8/site-packages/ipykernel/ipkernel.py:287: DeprecationWarning: `should_run_async` will not call `transform_cell` automatically in the future. Please pass the result to `transformed_cell` argument and any exception that happen during thetransform in `preprocessing_exc_tuple` in IPython 7.17 and above.\n",
      "  and should_run_async(code)\n"
     ]
    },
    {
     "output_type": "execute_result",
     "data": {
      "text/plain": [
       "            event_timestamp  customer_id  credit_card_transactions__V3  \\\n",
       "0 2021-08-05 00:00:00+00:00            1                           NaN   \n",
       "1 2021-08-05 00:00:00+00:00            2                           NaN   \n",
       "2 2021-08-05 00:00:00+00:00           33                           NaN   \n",
       "\n",
       "   credit_card_transactions__V4  credit_card_transactions__V5  \\\n",
       "0                           NaN                           NaN   \n",
       "1                           NaN                           NaN   \n",
       "2                           NaN                           NaN   \n",
       "\n",
       "   credit_card_transactions__Amount  credit_card_transactions__Time  \\\n",
       "0                               NaN                             NaN   \n",
       "1                               NaN                             NaN   \n",
       "2                               NaN                             NaN   \n",
       "\n",
       "   credit_card_transactions__Class  \n",
       "0                              NaN  \n",
       "1                              NaN  \n",
       "2                              NaN  "
      ],
      "text/html": [
       "<div>\n",
       "<style scoped>\n",
       "    .dataframe tbody tr th:only-of-type {\n",
       "        vertical-align: middle;\n",
       "    }\n",
       "\n",
       "    .dataframe tbody tr th {\n",
       "        vertical-align: top;\n",
       "    }\n",
       "\n",
       "    .dataframe thead th {\n",
       "        text-align: right;\n",
       "    }\n",
       "</style>\n",
       "<table border=\"1\" class=\"dataframe\">\n",
       "  <thead>\n",
       "    <tr style=\"text-align: right;\">\n",
       "      <th></th>\n",
       "      <th>event_timestamp</th>\n",
       "      <th>customer_id</th>\n",
       "      <th>credit_card_transactions__V3</th>\n",
       "      <th>credit_card_transactions__V4</th>\n",
       "      <th>credit_card_transactions__V5</th>\n",
       "      <th>credit_card_transactions__Amount</th>\n",
       "      <th>credit_card_transactions__Time</th>\n",
       "      <th>credit_card_transactions__Class</th>\n",
       "    </tr>\n",
       "  </thead>\n",
       "  <tbody>\n",
       "    <tr>\n",
       "      <th>0</th>\n",
       "      <td>2021-08-05 00:00:00+00:00</td>\n",
       "      <td>1</td>\n",
       "      <td>NaN</td>\n",
       "      <td>NaN</td>\n",
       "      <td>NaN</td>\n",
       "      <td>NaN</td>\n",
       "      <td>NaN</td>\n",
       "      <td>NaN</td>\n",
       "    </tr>\n",
       "    <tr>\n",
       "      <th>1</th>\n",
       "      <td>2021-08-05 00:00:00+00:00</td>\n",
       "      <td>2</td>\n",
       "      <td>NaN</td>\n",
       "      <td>NaN</td>\n",
       "      <td>NaN</td>\n",
       "      <td>NaN</td>\n",
       "      <td>NaN</td>\n",
       "      <td>NaN</td>\n",
       "    </tr>\n",
       "    <tr>\n",
       "      <th>2</th>\n",
       "      <td>2021-08-05 00:00:00+00:00</td>\n",
       "      <td>33</td>\n",
       "      <td>NaN</td>\n",
       "      <td>NaN</td>\n",
       "      <td>NaN</td>\n",
       "      <td>NaN</td>\n",
       "      <td>NaN</td>\n",
       "      <td>NaN</td>\n",
       "    </tr>\n",
       "  </tbody>\n",
       "</table>\n",
       "</div>"
      ]
     },
     "metadata": {},
     "execution_count": 73
    }
   ],
   "metadata": {}
  },
  {
   "cell_type": "markdown",
   "source": [
    "Materialize - Online Store"
   ],
   "metadata": {}
  },
  {
   "cell_type": "code",
   "execution_count": null,
   "source": [
    "%%bash\n",
    "cd ../features\n",
    "CURRENT_TIME=$(date -u +\"%Y-%m-%dT%H:%M:%S\")\n",
    "feast materialize-incremental $CURRENT_TIME"
   ],
   "outputs": [],
   "metadata": {}
  },
  {
   "cell_type": "code",
   "execution_count": 55,
   "source": [
    "# Get online features\n",
    "store = FeatureStore(repo_path=Path(config.BASE_DIR, \"features\"))\n",
    "feature_vector = store.get_online_features(\n",
    "    feature_refs=[\"credit_card_transactions:V1\", \"credit_card_transactions:V2\"],\n",
    "    entity_rows=[{\"customer_id\": 2}],\n",
    ").to_dict()\n",
    "feature_vector"
   ],
   "outputs": [
    {
     "output_type": "execute_result",
     "data": {
      "text/plain": [
       "{'customer_id': [2],\n",
       " 'credit_card_transactions__V1': [-1.35835406159823],\n",
       " 'credit_card_transactions__V2': [-1.3401630747360902]}"
      ]
     },
     "metadata": {},
     "execution_count": 55
    }
   ],
   "metadata": {}
  }
 ],
 "metadata": {
  "interpreter": {
   "hash": "256fd391bfb437605ad4fa1d42c8f94466513b864f5c0af6b67e3dabd74176cb"
  },
  "kernelspec": {
   "name": "python3",
   "display_name": "Python 3.9.6 64-bit ('mlops': conda)"
  },
  "language_info": {
   "name": "python",
   "version": "3.8.8",
   "mimetype": "text/x-python",
   "codemirror_mode": {
    "name": "ipython",
    "version": 3
   },
   "pygments_lexer": "ipython3",
   "nbconvert_exporter": "python",
   "file_extension": ".py"
  }
 },
 "nbformat": 4,
 "nbformat_minor": 5
}